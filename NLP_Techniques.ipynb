{
  "cells": [
    {
      "cell_type": "markdown",
      "metadata": {
        "id": "C1e4sDmSmHKO"
      },
      "source": [
        "# Natural Language Processing Techniques Notebook\n",
        "\n",
        "*Author: Hoang Anh Tuan*"
      ]
    },
    {
      "cell_type": "code",
      "execution_count": null,
      "metadata": {
        "colab": {
          "base_uri": "https://localhost:8080/"
        },
        "id": "i6aup3xClYQZ",
        "outputId": "4de321b5-3dec-499b-ce72-b7d2059cd1da"
      },
      "outputs": [
        {
          "name": "stdout",
          "output_type": "stream",
          "text": [
            "Requirement already satisfied: spacy in /usr/local/lib/python3.10/dist-packages (3.7.2)\n",
            "Requirement already satisfied: spacy-legacy<3.1.0,>=3.0.11 in /usr/local/lib/python3.10/dist-packages (from spacy) (3.0.12)\n",
            "Requirement already satisfied: spacy-loggers<2.0.0,>=1.0.0 in /usr/local/lib/python3.10/dist-packages (from spacy) (1.0.5)\n",
            "Requirement already satisfied: murmurhash<1.1.0,>=0.28.0 in /usr/local/lib/python3.10/dist-packages (from spacy) (1.0.10)\n",
            "Requirement already satisfied: cymem<2.1.0,>=2.0.2 in /usr/local/lib/python3.10/dist-packages (from spacy) (2.0.8)\n",
            "Requirement already satisfied: preshed<3.1.0,>=3.0.2 in /usr/local/lib/python3.10/dist-packages (from spacy) (3.0.9)\n",
            "Requirement already satisfied: thinc<8.3.0,>=8.1.8 in /usr/local/lib/python3.10/dist-packages (from spacy) (8.2.2)\n",
            "Requirement already satisfied: wasabi<1.2.0,>=0.9.1 in /usr/local/lib/python3.10/dist-packages (from spacy) (1.1.2)\n",
            "Requirement already satisfied: srsly<3.0.0,>=2.4.3 in /usr/local/lib/python3.10/dist-packages (from spacy) (2.4.8)\n",
            "Requirement already satisfied: catalogue<2.1.0,>=2.0.6 in /usr/local/lib/python3.10/dist-packages (from spacy) (2.0.10)\n",
            "Requirement already satisfied: weasel<0.4.0,>=0.1.0 in /usr/local/lib/python3.10/dist-packages (from spacy) (0.3.4)\n",
            "Requirement already satisfied: typer<0.10.0,>=0.3.0 in /usr/local/lib/python3.10/dist-packages (from spacy) (0.9.0)\n",
            "Requirement already satisfied: smart-open<7.0.0,>=5.2.1 in /usr/local/lib/python3.10/dist-packages (from spacy) (6.4.0)\n",
            "Requirement already satisfied: tqdm<5.0.0,>=4.38.0 in /usr/local/lib/python3.10/dist-packages (from spacy) (4.66.1)\n",
            "Requirement already satisfied: requests<3.0.0,>=2.13.0 in /usr/local/lib/python3.10/dist-packages (from spacy) (2.31.0)\n",
            "Requirement already satisfied: pydantic!=1.8,!=1.8.1,<3.0.0,>=1.7.4 in /usr/local/lib/python3.10/dist-packages (from spacy) (1.10.14)\n",
            "Requirement already satisfied: jinja2 in /usr/local/lib/python3.10/dist-packages (from spacy) (3.1.3)\n",
            "Requirement already satisfied: setuptools in /usr/local/lib/python3.10/dist-packages (from spacy) (67.7.2)\n",
            "Requirement already satisfied: packaging>=20.0 in /usr/local/lib/python3.10/dist-packages (from spacy) (23.2)\n",
            "Requirement already satisfied: langcodes<4.0.0,>=3.2.0 in /usr/local/lib/python3.10/dist-packages (from spacy) (3.3.0)\n",
            "Requirement already satisfied: numpy>=1.19.0 in /usr/local/lib/python3.10/dist-packages (from spacy) (1.23.5)\n",
            "Requirement already satisfied: typing-extensions>=4.2.0 in /usr/local/lib/python3.10/dist-packages (from pydantic!=1.8,!=1.8.1,<3.0.0,>=1.7.4->spacy) (4.5.0)\n",
            "Requirement already satisfied: charset-normalizer<4,>=2 in /usr/local/lib/python3.10/dist-packages (from requests<3.0.0,>=2.13.0->spacy) (3.3.2)\n",
            "Requirement already satisfied: idna<4,>=2.5 in /usr/local/lib/python3.10/dist-packages (from requests<3.0.0,>=2.13.0->spacy) (3.6)\n",
            "Requirement already satisfied: urllib3<3,>=1.21.1 in /usr/local/lib/python3.10/dist-packages (from requests<3.0.0,>=2.13.0->spacy) (2.0.7)\n",
            "Requirement already satisfied: certifi>=2017.4.17 in /usr/local/lib/python3.10/dist-packages (from requests<3.0.0,>=2.13.0->spacy) (2023.11.17)\n",
            "Requirement already satisfied: blis<0.8.0,>=0.7.8 in /usr/local/lib/python3.10/dist-packages (from thinc<8.3.0,>=8.1.8->spacy) (0.7.11)\n",
            "Requirement already satisfied: confection<1.0.0,>=0.0.1 in /usr/local/lib/python3.10/dist-packages (from thinc<8.3.0,>=8.1.8->spacy) (0.1.4)\n",
            "Requirement already satisfied: click<9.0.0,>=7.1.1 in /usr/local/lib/python3.10/dist-packages (from typer<0.10.0,>=0.3.0->spacy) (8.1.7)\n",
            "Requirement already satisfied: cloudpathlib<0.17.0,>=0.7.0 in /usr/local/lib/python3.10/dist-packages (from weasel<0.4.0,>=0.1.0->spacy) (0.16.0)\n",
            "Requirement already satisfied: MarkupSafe>=2.0 in /usr/local/lib/python3.10/dist-packages (from jinja2->spacy) (2.1.4)\n"
          ]
        }
      ],
      "source": [
        "# Installation\n",
        "!pip install spacy"
      ]
    },
    {
      "cell_type": "code",
      "execution_count": 1,
      "metadata": {
        "id": "gPhottzbllBI"
      },
      "outputs": [],
      "source": [
        "import spacy\n",
        "from spacy import displacy    # Spacy Visualization\n",
        "# Text classification using SVC\n",
        "from sklearn.svm import SVC\n",
        "from sklearn.pipeline import Pipeline\n",
        "from sklearn.feature_extraction.text import TfidfVectorizer\n",
        "# Topic Modelling\n",
        "import gensim\n",
        "from gensim import corpora\n",
        "\n",
        "# Load the English language model\n",
        "nlp = spacy.load(\"en_core_web_sm\")"
      ]
    },
    {
      "cell_type": "markdown",
      "metadata": {
        "id": "iTXse0Ffl4sZ"
      },
      "source": [
        "## **Tokenization**"
      ]
    },
    {
      "cell_type": "markdown",
      "metadata": {
        "id": "FMbDbaMgmCtw"
      },
      "source": [
        "### Example 1: Simple Sentence"
      ]
    },
    {
      "cell_type": "code",
      "execution_count": null,
      "metadata": {
        "id": "xNkAGUOklm1g"
      },
      "outputs": [],
      "source": [
        "token_1 = \"NLP can improve on keyword matching search for document and FAQ retrieval by disambiguating word senses based on context\"\n",
        "doc_token_1 = nlp(token_1)"
      ]
    },
    {
      "cell_type": "code",
      "execution_count": null,
      "metadata": {
        "colab": {
          "base_uri": "https://localhost:8080/"
        },
        "id": "3ZhpgYw9nTJ5",
        "outputId": "7640ae30-076a-4205-b637-0529c3dec9f7"
      },
      "outputs": [
        {
          "name": "stdout",
          "output_type": "stream",
          "text": [
            "1 NLP\n",
            "2 can\n",
            "3 improve\n",
            "4 on\n",
            "5 keyword\n",
            "6 matching\n",
            "7 search\n",
            "8 for\n",
            "9 document\n",
            "10 and\n",
            "11 FAQ\n",
            "12 retrieval\n",
            "13 by\n",
            "14 disambiguating\n",
            "15 word\n",
            "16 senses\n",
            "17 based\n",
            "18 on\n",
            "19 context\n"
          ]
        }
      ],
      "source": [
        "for token in doc_token_1:\n",
        "  # Print the id and text\n",
        "  print(token.i + 1, token.text)"
      ]
    },
    {
      "cell_type": "markdown",
      "metadata": {
        "id": "s5MB4KwiGLrY"
      },
      "source": [
        "### Example 2: Complex Sentence with Punctuation and Numbers"
      ]
    },
    {
      "cell_type": "code",
      "execution_count": null,
      "metadata": {
        "id": "bsOBfDRVnYv_"
      },
      "outputs": [],
      "source": [
        "token_2 = \"spaCy ver 3 introduces 1 transformer-based pipelines that bring spaCy's accuracy right up to the current state-of-the-art.\"\n",
        "doc_token_2 = nlp(token_2)"
      ]
    },
    {
      "cell_type": "code",
      "execution_count": null,
      "metadata": {
        "colab": {
          "base_uri": "https://localhost:8080/"
        },
        "id": "y9kt09b2GlzH",
        "outputId": "45ee4702-872e-4acb-dcd5-d7f377ad777f"
      },
      "outputs": [
        {
          "name": "stdout",
          "output_type": "stream",
          "text": [
            "1 spaCy False\n",
            "2 ver False\n",
            "3 3 True\n",
            "4 introduces False\n",
            "5 1 True\n",
            "6 transformer False\n",
            "7 - False\n",
            "8 based False\n",
            "9 pipelines False\n",
            "10 that False\n",
            "11 bring False\n",
            "12 spaCy False\n",
            "13 's False\n",
            "14 accuracy False\n",
            "15 right False\n",
            "16 up False\n",
            "17 to False\n",
            "18 the False\n",
            "19 current False\n",
            "20 state False\n",
            "21 - False\n",
            "22 of False\n",
            "23 - False\n",
            "24 the False\n",
            "25 - False\n",
            "26 art False\n",
            "27 . False\n"
          ]
        }
      ],
      "source": [
        "for token in doc_token_2:\n",
        "  # Print the id, text and boolean indicating the digits\n",
        "  print(token.i + 1, token.text, token.is_digit)"
      ]
    },
    {
      "cell_type": "markdown",
      "source": [
        "## **Uppercasing/Lowercasing**"
      ],
      "metadata": {
        "id": "eaUbre00Ul_s"
      }
    },
    {
      "cell_type": "markdown",
      "source": [
        "### Example 1: Simple Casing"
      ],
      "metadata": {
        "id": "Dmk64-ceUrP0"
      }
    },
    {
      "cell_type": "code",
      "source": [
        "cas_1 = \"Hello World! This is tuanx18\"\n",
        "doc_cas_1 = nlp(cas_1)"
      ],
      "metadata": {
        "id": "-4ez-7v3UqbT"
      },
      "execution_count": 2,
      "outputs": []
    },
    {
      "cell_type": "code",
      "source": [
        "for token in doc_cas_1:\n",
        "  print(f\"Upper case of: {token.text} is {token.text.upper()} and its Lowercase is {token.text.lower()} \")"
      ],
      "metadata": {
        "colab": {
          "base_uri": "https://localhost:8080/"
        },
        "id": "ywBis_r6U8vc",
        "outputId": "055aebf2-22b2-4c33-a843-5ae811cfba9f"
      },
      "execution_count": 6,
      "outputs": [
        {
          "output_type": "stream",
          "name": "stdout",
          "text": [
            "Upper case of: Hello is HELLO and its Lowercase is hello \n",
            "Upper case of: World is WORLD and its Lowercase is world \n",
            "Upper case of: ! is ! and its Lowercase is ! \n",
            "Upper case of: This is THIS and its Lowercase is this \n",
            "Upper case of: is is IS and its Lowercase is is \n",
            "Upper case of: tuanx18 is TUANX18 and its Lowercase is tuanx18 \n"
          ]
        }
      ]
    },
    {
      "cell_type": "markdown",
      "source": [
        "### Example 2: Casing for the whole sentence"
      ],
      "metadata": {
        "id": "FvR1Lp39VYw8"
      }
    },
    {
      "cell_type": "code",
      "source": [
        "cas_2 = \"Now, I and my family that consists of 6 family members, are going to play basketball at the nearby park until midnight.\"\n",
        "doc_cas_2 = nlp(cas_2)"
      ],
      "metadata": {
        "id": "QoAaBRRKVnzE"
      },
      "execution_count": 7,
      "outputs": []
    },
    {
      "cell_type": "code",
      "source": [
        "# Print the whole sentence in uppercase\n",
        "upper_cas_2 = [token.text.upper() for token in doc_cas_2]\n",
        "upper_text = \" \".join(upper_cas_2)\n",
        "print(upper_text)"
      ],
      "metadata": {
        "colab": {
          "base_uri": "https://localhost:8080/"
        },
        "id": "uTMqaAiHVz6-",
        "outputId": "788500ab-7343-4e74-bb38-a61588459344"
      },
      "execution_count": 8,
      "outputs": [
        {
          "output_type": "stream",
          "name": "stdout",
          "text": [
            "NOW , I AND MY FAMILY THAT CONSISTS OF 6 FAMILY MEMBERS , ARE GOING TO PLAY BASKETBALL AT THE NEARBY PARK UNTIL MIDNIGHT .\n"
          ]
        }
      ]
    },
    {
      "cell_type": "code",
      "source": [
        "# Take the uppercased sentence, make it lowercase\n",
        "upper_doc = nlp(upper_text)\n",
        "lower_cas_2 = [token.text.lower() for token in upper_doc]\n",
        "lower_text = \" \".join(lower_cas_2)\n",
        "print(lower_text)"
      ],
      "metadata": {
        "colab": {
          "base_uri": "https://localhost:8080/"
        },
        "id": "Y_eQh570WJK0",
        "outputId": "228ac4d8-6706-4dc3-e1ad-268d6ca04b6c"
      },
      "execution_count": 9,
      "outputs": [
        {
          "output_type": "stream",
          "name": "stdout",
          "text": [
            "now , i and my family that consists of 6 family members , are going to play basketball at the nearby park until midnight .\n"
          ]
        }
      ]
    },
    {
      "cell_type": "markdown",
      "metadata": {
        "id": "FoNsXz4_HeVy"
      },
      "source": [
        "## **Part-of-Speech Tagging (POS)**"
      ]
    },
    {
      "cell_type": "markdown",
      "metadata": {
        "id": "TdfNh0FcINCt"
      },
      "source": [
        "### Example 1: Simple POS Tagging + Explanation"
      ]
    },
    {
      "cell_type": "code",
      "execution_count": null,
      "metadata": {
        "id": "6gdC9kAnG4z8"
      },
      "outputs": [],
      "source": [
        "pos_1 = \"The quick brown fox jumps over the 2 lazy dogs.\"\n",
        "doc_pos_1 = nlp(pos_1)"
      ]
    },
    {
      "cell_type": "code",
      "execution_count": null,
      "metadata": {
        "colab": {
          "base_uri": "https://localhost:8080/"
        },
        "id": "DmivWWjHI1gB",
        "outputId": "d1c0d509-f387-4e2c-e27f-925fedc47293"
      },
      "outputs": [
        {
          "name": "stdout",
          "output_type": "stream",
          "text": [
            "0 The DET: determiner\n",
            "1 quick ADJ: adjective\n",
            "2 brown ADJ: adjective\n",
            "3 fox NOUN: noun\n",
            "4 jumps VERB: verb\n",
            "5 over ADP: adposition\n",
            "6 the DET: determiner\n",
            "7 2 NUM: numeral\n",
            "8 lazy ADJ: adjective\n",
            "9 dogs NOUN: noun\n",
            "10 . PUNCT: punctuation\n"
          ]
        }
      ],
      "source": [
        "for token in doc_pos_1:\n",
        "  # Print id, text, POS and full POS\n",
        "  print(f\"{token.i} {token.text} {token.pos_}: {spacy.explain(token.pos_)}\")"
      ]
    },
    {
      "cell_type": "markdown",
      "metadata": {
        "id": "cirOTkZWJR6p"
      },
      "source": [
        "### Example 2: POS Tagging and Dependency Parsing"
      ]
    },
    {
      "cell_type": "code",
      "execution_count": null,
      "metadata": {
        "id": "j7gq7vWoJEUd"
      },
      "outputs": [],
      "source": [
        "pos_2 = \"The 666 cats sat on the 666 mats.\"\n",
        "doc_pos_2 = nlp(pos_2)"
      ]
    },
    {
      "cell_type": "code",
      "execution_count": null,
      "metadata": {
        "colab": {
          "base_uri": "https://localhost:8080/"
        },
        "id": "dXu0n_cHJxVd",
        "outputId": "4d1e80c2-3329-4e72-96b3-cbe4468abb99"
      },
      "outputs": [
        {
          "name": "stdout",
          "output_type": "stream",
          "text": [
            "0 The - det - cats\n",
            "1 666 - nummod - cats\n",
            "2 cats - nsubj - sat\n",
            "3 sat - ROOT - sat\n",
            "4 on - prep - sat\n",
            "5 the - det - mats\n",
            "6 666 - nummod - mats\n",
            "7 mats - pobj - on\n",
            "8 . - punct - sat\n"
          ]
        }
      ],
      "source": [
        "for token in doc_pos_2:\n",
        "  # Print the id, text and its dependency parsing\n",
        "  print(f\"{token.i} {token.text} - {token.dep_} - {token.head.text}\")"
      ]
    },
    {
      "cell_type": "markdown",
      "metadata": {
        "id": "cWOkNd6Kd63S"
      },
      "source": [
        "## **Stop Words Removal**"
      ]
    },
    {
      "cell_type": "markdown",
      "metadata": {
        "id": "t2Hn_cvYjdJh"
      },
      "source": [
        "### Example 1: Define the Stop Words"
      ]
    },
    {
      "cell_type": "code",
      "execution_count": null,
      "metadata": {
        "id": "X8NQ3OGqjUBJ"
      },
      "outputs": [],
      "source": [
        "sw_1 = \"Wow, there are more than a billion people on the world, but none of them are perfect.\"\n",
        "doc_sw_1 = nlp(sw_1)"
      ]
    },
    {
      "cell_type": "code",
      "execution_count": null,
      "metadata": {
        "colab": {
          "background_save": true,
          "base_uri": "https://localhost:8080/"
        },
        "id": "VZ1PeXNrklIa",
        "outputId": "dbb74c01-8640-4926-e307-af0ab725c76e"
      },
      "outputs": [
        {
          "name": "stdout",
          "output_type": "stream",
          "text": [
            "Wow is just a normal word, no need to care\n",
            ", is just a normal word, no need to care\n",
            "there is a stop word\n",
            "are is a stop word\n",
            "more is a stop word\n",
            "than is a stop word\n",
            "a is a stop word\n",
            "billion is just a normal word, no need to care\n",
            "people is just a normal word, no need to care\n",
            "on is a stop word\n",
            "the is a stop word\n",
            "world is just a normal word, no need to care\n",
            ", is just a normal word, no need to care\n",
            "but is a stop word\n",
            "none is a stop word\n",
            "of is a stop word\n",
            "them is a stop word\n",
            "are is a stop word\n",
            "perfect is just a normal word, no need to care\n",
            ". is just a normal word, no need to care\n"
          ]
        }
      ],
      "source": [
        "# Check the type of words\n",
        "for token in doc_sw_1:\n",
        "  if token.is_stop == True:\n",
        "    print(f\"{token.text} is a stop word\")\n",
        "  elif token.is_digit == True:\n",
        "    print(f\"Oh look, a number: \")\n",
        "  else:\n",
        "    print(f\"{token.text} is just a normal word, no need to care\")"
      ]
    },
    {
      "cell_type": "markdown",
      "metadata": {
        "id": "_fxHPemCd_ph"
      },
      "source": [
        "##**Lemmatization**"
      ]
    },
    {
      "cell_type": "markdown",
      "metadata": {
        "id": "EeugGYBHgHuS"
      },
      "source": [
        "### Example 1: Simple Word Lemmatization"
      ]
    },
    {
      "cell_type": "code",
      "execution_count": null,
      "metadata": {
        "colab": {
          "base_uri": "https://localhost:8080/"
        },
        "id": "0abei9p5gHRj",
        "outputId": "a954ad64-b795-4aa9-ba8b-230aa0837c46"
      },
      "outputs": [
        {
          "name": "stdout",
          "output_type": "stream",
          "text": [
            "be\n",
            "happiness\n",
            "large\n",
            "mouse\n",
            "buy\n",
            "time\n"
          ]
        }
      ],
      "source": [
        "lemma_1 = [\"were\", \"happiness\", \"largest\", \"mice\", \"bought\", \"times\"]\n",
        "for x in lemma_1:\n",
        "  doc_lemma = nlp(x)\n",
        "  print(doc_lemma[0].lemma_)"
      ]
    },
    {
      "cell_type": "markdown",
      "metadata": {
        "id": "q0bB_NJygICb"
      },
      "source": [
        "### Example 2: Create a function for Lemmatizing the whole text"
      ]
    },
    {
      "cell_type": "code",
      "execution_count": null,
      "metadata": {
        "id": "4NEs64GLeDSZ"
      },
      "outputs": [],
      "source": [
        "# Define a function for lemmatization\n",
        "def lemmatize_text(text):\n",
        "  doc = nlp(text)\n",
        "  lemmatized_tokens = [token.lemma_ for token in doc]\n",
        "  return \" \".join(lemmatized_tokens)"
      ]
    },
    {
      "cell_type": "code",
      "execution_count": null,
      "metadata": {
        "colab": {
          "base_uri": "https://localhost:8080/"
        },
        "id": "xx28nFcefsQp",
        "outputId": "822089b4-8702-476a-b03c-2d32a48e1bb2"
      },
      "outputs": [
        {
          "name": "stdout",
          "output_type": "stream",
          "text": [
            "Lemmatized Text: the big cat be run around the football field where we belong to\n"
          ]
        }
      ],
      "source": [
        "# Example text\n",
        "lemma_2 = \"The biggest cats are running around the football fields where we belonged to\"\n",
        "lemmatized_2 = lemmatize_text(lemma_2)\n",
        "print(f\"Lemmatized Text: {lemmatized_2}\")"
      ]
    },
    {
      "cell_type": "markdown",
      "metadata": {
        "id": "LKwhIknChrUz"
      },
      "source": [
        "### Example 3: Lemmatization with Sentence Structure"
      ]
    },
    {
      "cell_type": "code",
      "execution_count": null,
      "metadata": {
        "id": "3LrSwEJkhyNH"
      },
      "outputs": [],
      "source": [
        "lemma_3 = \"She has always wanted playing with one of my best friends, Jeremy - The blackest hunter. And she also wanted to pet all my dogs within the tree houses\"\n",
        "doc_lemma_3 = nlp(lemma_3)"
      ]
    },
    {
      "cell_type": "code",
      "execution_count": null,
      "metadata": {
        "colab": {
          "base_uri": "https://localhost:8080/"
        },
        "id": "m7_hT_1aiOqx",
        "outputId": "403bcd95-3e53-4211-ab62-ecbf5a316de8"
      },
      "outputs": [
        {
          "name": "stdout",
          "output_type": "stream",
          "text": [
            "\n",
            "Number of letter of this sentence is 88\n",
            "Index: 1, Text: She, Lemmatized: she\n",
            "Index: 2, Text: has, Lemmatized: have\n",
            "Index: 3 // Unchanged Lemma\n",
            "Index: 4, Text: wanted, Lemmatized: want\n",
            "Index: 5, Text: playing, Lemmatized: play\n",
            "Index: 6 // Unchanged Lemma\n",
            "Index: 7 // Unchanged Lemma\n",
            "Index: 8 // Unchanged Lemma\n",
            "Index: 9 // Unchanged Lemma\n",
            "Index: 10, Text: best, Lemmatized: good\n",
            "Index: 11, Text: friends, Lemmatized: friend\n",
            "Index: 12 // Unchanged Lemma\n",
            "Index: 13 // Unchanged Lemma\n",
            "Index: 14 // Unchanged Lemma\n",
            "Index: 15, Text: The, Lemmatized: the\n",
            "Index: 16, Text: blackest, Lemmatized: black\n",
            "Index: 17 // Unchanged Lemma\n",
            "Index: 18 // Unchanged Lemma\n",
            "\n",
            "Number of letter of this sentence is 61\n",
            "Index: 19, Text: And, Lemmatized: and\n",
            "Index: 20 // Unchanged Lemma\n",
            "Index: 21 // Unchanged Lemma\n",
            "Index: 22, Text: wanted, Lemmatized: want\n",
            "Index: 23 // Unchanged Lemma\n",
            "Index: 24 // Unchanged Lemma\n",
            "Index: 25 // Unchanged Lemma\n",
            "Index: 26 // Unchanged Lemma\n",
            "Index: 27, Text: dogs, Lemmatized: dog\n",
            "Index: 28 // Unchanged Lemma\n",
            "Index: 29 // Unchanged Lemma\n",
            "Index: 30 // Unchanged Lemma\n",
            "Index: 31, Text: houses, Lemmatized: house\n"
          ]
        }
      ],
      "source": [
        "# Loop through the sentences and then the tokens to print the text/lemmatized text\n",
        "for sent in doc_lemma_3.sents:\n",
        "  print(f\"\\nNumber of letter of this sentence is {sent.end_char - sent.start_char}\")\n",
        "  for token in sent:\n",
        "    if token.text == token.lemma_:\n",
        "      print(f\"Index: {token.i + 1} // Unchanged Lemma\")\n",
        "    else:\n",
        "      print(f\"Index: {token.i + 1}, Text: {token.text}, Lemmatized: {token.lemma_}\")"
      ]
    },
    {
      "cell_type": "markdown",
      "metadata": {
        "id": "E-cvjN3zKXrM"
      },
      "source": [
        "## **Named Entity Recognition (NER)**"
      ]
    },
    {
      "cell_type": "markdown",
      "metadata": {
        "id": "ndsY7mclOKV5"
      },
      "source": [
        "### Example 1: Simple Named Entity Recognition"
      ]
    },
    {
      "cell_type": "code",
      "execution_count": null,
      "metadata": {
        "id": "IpH1ctkMJ-8W"
      },
      "outputs": [],
      "source": [
        "ner_1 = \"Apple is headquartered in 2555 Southern Street, Cupertino, California, USA.\"\n",
        "doc_ner_1 = nlp(ner_1)"
      ]
    },
    {
      "cell_type": "code",
      "execution_count": null,
      "metadata": {
        "colab": {
          "base_uri": "https://localhost:8080/"
        },
        "id": "AWsBS9WLLMlf",
        "outputId": "0829b6cf-44de-41e9-b9e0-434fd1a4bfd9"
      },
      "outputs": [
        {
          "name": "stdout",
          "output_type": "stream",
          "text": [
            "Text: Apple, Named Entity Label: ORG\n",
            "Text: 2555, Named Entity Label: DATE\n",
            "Text: Southern Street, Named Entity Label: LOC\n",
            "Text: Cupertino, Named Entity Label: GPE\n",
            "Text: California, Named Entity Label: GPE\n",
            "Text: USA, Named Entity Label: GPE\n"
          ]
        }
      ],
      "source": [
        "for ent in doc_ner_1.ents:\n",
        "  # Print the entity text and label\n",
        "  print(f\"Text: {ent.text}, Named Entity Label: {ent.label_}\")"
      ]
    },
    {
      "cell_type": "markdown",
      "metadata": {
        "id": "LbdFkHOyOP-l"
      },
      "source": [
        "### Example 2: Named Entity Recognition with Detailed Labels"
      ]
    },
    {
      "cell_type": "code",
      "execution_count": null,
      "metadata": {
        "id": "X_F8vXseLv0Q"
      },
      "outputs": [],
      "source": [
        "ner_2 = \"Bill Gates founded Microsoft in 1975 and Elon Musk is the CEO of SpaceX and Tesla.\"\n",
        "doc_ner_2 = nlp(ner_2)"
      ]
    },
    {
      "cell_type": "code",
      "execution_count": null,
      "metadata": {
        "colab": {
          "base_uri": "https://localhost:8080/"
        },
        "id": "zr599dkmOlP1",
        "outputId": "74933f96-1c31-4e9b-84f5-02b14b6fe4c0"
      },
      "outputs": [
        {
          "name": "stdout",
          "output_type": "stream",
          "text": [
            "Text: Bill Gates - Label: PERSON  \n",
            "\tDetailed Label: People, including fictional\n",
            "\n",
            "Text: Microsoft - Label: ORG  \n",
            "\tDetailed Label: Companies, agencies, institutions, etc.\n",
            "\n",
            "Text: 1975 - Label: DATE  \n",
            "\tDetailed Label: Absolute or relative dates or periods\n",
            "\n",
            "Text: Elon Musk - Label: PERSON  \n",
            "\tDetailed Label: People, including fictional\n",
            "\n",
            "Text: SpaceX - Label: NORP  \n",
            "\tDetailed Label: Nationalities or religious or political groups\n",
            "\n",
            "Text: Tesla - Label: ORG  \n",
            "\tDetailed Label: Companies, agencies, institutions, etc.\n",
            "\n"
          ]
        }
      ],
      "source": [
        "for ent in doc_ner_2.ents:\n",
        "  # Print entity text, label and detailed label\n",
        "  print(f\"Text: {ent.text} - Label: {ent.label_}  \\n\\tDetailed Label: {spacy.explain(ent.label_)}\\n\")"
      ]
    },
    {
      "cell_type": "markdown",
      "metadata": {
        "id": "aSNpWljzPn-J"
      },
      "source": [
        "### Example 3: Named Entity Recognition and Sentence Structure:"
      ]
    },
    {
      "cell_type": "code",
      "execution_count": null,
      "metadata": {
        "id": "CI8_uVmYPNIq"
      },
      "outputs": [],
      "source": [
        "ner_3 = \"Barack Obama was born in Hawaii. He served as the 44th President of the U.S.A. He is such a great African-American. His website is obama.com\"\n",
        "doc_ner_3 = nlp(ner_3)"
      ]
    },
    {
      "cell_type": "code",
      "execution_count": null,
      "metadata": {
        "colab": {
          "base_uri": "https://localhost:8080/"
        },
        "id": "36p-QsG_QNVw",
        "outputId": "5e8c7c17-75e6-4e06-df2e-0b477f3f54d6"
      },
      "outputs": [
        {
          "name": "stdout",
          "output_type": "stream",
          "text": [
            "Sentence 1: Barack Obama was born in Hawaii.\n",
            "Sentence 2: He served as the 44th President of the U.S.A.\n",
            "Sentence 3: He is such a great African-American.\n",
            "Sentence 4: His website is obama.com\n"
          ]
        }
      ],
      "source": [
        "# Print named entities and their labels, along with sentence structure\n",
        "s_num = 0\n",
        "for sent in doc_ner_3.sents:\n",
        "  s_num += 1\n",
        "  print(f\"Sentence {s_num}: {sent}\")"
      ]
    },
    {
      "cell_type": "code",
      "execution_count": null,
      "metadata": {
        "colab": {
          "base_uri": "https://localhost:8080/"
        },
        "id": "eOFhIIHUQdeo",
        "outputId": "7d82764b-7abb-4cac-82cf-137095460a6d"
      },
      "outputs": [
        {
          "name": "stdout",
          "output_type": "stream",
          "text": [
            "Barack Obama PERSON\n",
            "Hawaii GPE\n",
            "44th ORDINAL\n",
            "the U.S.A. ORG\n",
            "African-American NORP\n"
          ]
        }
      ],
      "source": [
        "for ent in doc_ner_3.ents:\n",
        "  print(ent.text, ent.label_)"
      ]
    },
    {
      "cell_type": "markdown",
      "source": [
        "## **Chunking**"
      ],
      "metadata": {
        "id": "yUhKvj6CXo3U"
      }
    },
    {
      "cell_type": "markdown",
      "source": [
        "### Example 1: Chunks of Nouns"
      ],
      "metadata": {
        "id": "xhAghY9pZqaS"
      }
    },
    {
      "cell_type": "code",
      "source": [
        "chk_1 = \"I have 3 black balls, 2 yellow cats, a playful pomeranian and the 5 great family members\"\n",
        "doc_chk_1 = nlp(chk_1)"
      ],
      "metadata": {
        "id": "DD86BjlYZXl0"
      },
      "execution_count": 10,
      "outputs": []
    },
    {
      "cell_type": "code",
      "source": [
        "noun_chk_1 = list(doc_chk_1.noun_chunks)\n",
        "for chunk in noun_chk_1:\n",
        "  print(chunk.text)"
      ],
      "metadata": {
        "colab": {
          "base_uri": "https://localhost:8080/"
        },
        "id": "7qCIRoeEZllE",
        "outputId": "4440d3cb-b4df-4b87-e7e6-d2196c12601f"
      },
      "execution_count": 12,
      "outputs": [
        {
          "output_type": "stream",
          "name": "stdout",
          "text": [
            "I\n",
            "3 black balls\n",
            "2 yellow cats\n",
            "a playful pomeranian\n",
            "the 5 great family members\n"
          ]
        }
      ]
    },
    {
      "cell_type": "markdown",
      "source": [
        "### Example 2: Chunks of Nouns with Sentence Structures"
      ],
      "metadata": {
        "id": "jIDVXFaqaPvM"
      }
    },
    {
      "cell_type": "code",
      "source": [
        "chk_2 = \"Elon Musk is a great entrepreneur who was born in 1970. He is an White African-American and his origin is South Africa. Currently, he is the wealthiest, richest man on the Planet Earth\"\n",
        "doc_chk_2 = nlp(chk_2)"
      ],
      "metadata": {
        "id": "QSPF7dwfaRXF"
      },
      "execution_count": 13,
      "outputs": []
    },
    {
      "cell_type": "code",
      "source": [
        "for sent in doc_chk_2.sents:\n",
        "  noun_chk_2 = list(doc_chk_2.noun_chunks)\n",
        "  for chunk in noun_chk_2:\n",
        "    print(chunk.text)\n",
        "  print()"
      ],
      "metadata": {
        "colab": {
          "base_uri": "https://localhost:8080/"
        },
        "id": "_TOJqdp1f7i8",
        "outputId": "3be88538-16b4-464f-b83f-739590a5ab39"
      },
      "execution_count": 19,
      "outputs": [
        {
          "output_type": "stream",
          "name": "stdout",
          "text": [
            "Elon Musk\n",
            "a great entrepreneur\n",
            "who\n",
            "He\n",
            "his origin\n",
            "South Africa\n",
            "he\n",
            "the wealthiest, richest man\n",
            "the Planet Earth\n",
            "\n",
            "Elon Musk\n",
            "a great entrepreneur\n",
            "who\n",
            "He\n",
            "his origin\n",
            "South Africa\n",
            "he\n",
            "the wealthiest, richest man\n",
            "the Planet Earth\n",
            "\n",
            "Elon Musk\n",
            "a great entrepreneur\n",
            "who\n",
            "He\n",
            "his origin\n",
            "South Africa\n",
            "he\n",
            "the wealthiest, richest man\n",
            "the Planet Earth\n",
            "\n"
          ]
        }
      ]
    },
    {
      "cell_type": "markdown",
      "metadata": {
        "id": "XMuFjhjbRxyz"
      },
      "source": [
        "## **Dependency Parsing**"
      ]
    },
    {
      "cell_type": "markdown",
      "metadata": {
        "id": "-V17vG6FR150"
      },
      "source": [
        "### Example 1: Simple Dependency Parsing"
      ]
    },
    {
      "cell_type": "code",
      "execution_count": null,
      "metadata": {
        "id": "-EC-XPa4S54O"
      },
      "outputs": [],
      "source": [
        "dep_1 = \"The quick brown fox jumps over the lazy dog.\"\n",
        "doc_dep_1 = nlp(dep_1)"
      ]
    },
    {
      "cell_type": "code",
      "execution_count": null,
      "metadata": {
        "colab": {
          "base_uri": "https://localhost:8080/"
        },
        "id": "wz6PcrmqSspb",
        "outputId": "38e7453b-c784-4d14-fcc2-95d1790ab3ef"
      },
      "outputs": [
        {
          "name": "stdout",
          "output_type": "stream",
          "text": [
            "ID: 1, Dependency: det / determiner, Text: The\n",
            "\n",
            "ID: 2, Dependency: amod / adjectival modifier, Text: quick\n",
            "\n",
            "ID: 3, Dependency: amod / adjectival modifier, Text: brown\n",
            "\n",
            "ID: 4, Dependency: nsubj / nominal subject, Text: fox\n",
            "\n",
            "ID: 5, Dependency: ROOT / root, Text: jumps\n",
            "\n",
            "ID: 6, Dependency: prep / prepositional modifier, Text: over\n",
            "\n",
            "ID: 7, Dependency: det / determiner, Text: the\n",
            "\n",
            "ID: 8, Dependency: amod / adjectival modifier, Text: lazy\n",
            "\n",
            "ID: 9, Dependency: pobj / object of preposition, Text: dog\n",
            "\n",
            "ID: 10, Dependency: punct / punctuation, Text: .\n",
            "\n"
          ]
        }
      ],
      "source": [
        "for token in doc_dep_1:\n",
        "  # Print the ID, dependency and text\n",
        "  print(f\"ID: {token.i + 1}, Dependency: {token.dep_} / {spacy.explain(token.dep_)}, Text: {token.text}\\n\")"
      ]
    },
    {
      "cell_type": "markdown",
      "metadata": {
        "id": "WQV4Hq3Mhffc"
      },
      "source": [
        "### Example 2: Dependency Parsing and POS tagging of sentences and their tokens"
      ]
    },
    {
      "cell_type": "code",
      "execution_count": null,
      "metadata": {
        "id": "Qnlxofwxhsjj"
      },
      "outputs": [],
      "source": [
        "dep_2 = \"Shrek premiered at the Mann Village Theatre In Westwood. It was shown at the 2001 Cannes Film Festival, where it competed for the P'Or. Making it the first animated film.\"\n",
        "doc_dep_2 = nlp(dep_2)"
      ]
    },
    {
      "cell_type": "code",
      "execution_count": null,
      "metadata": {
        "colab": {
          "base_uri": "https://localhost:8080/"
        },
        "id": "b017sZ6aiHM0",
        "outputId": "6ad57d6a-4293-4f10-ea43-2736db52169f"
      },
      "outputs": [
        {
          "name": "stdout",
          "output_type": "stream",
          "text": [
            "\n",
            "The sentence has total [ 56 ] letters\n",
            "Word 1 in sentence 1 is: Shrek, its dependency parsing is [nsubj / nominal subject], its POS Tagging is noun\n",
            "Word 2 in sentence 1 is: premiered, its dependency parsing is [ROOT / root], its POS Tagging is verb\n",
            "Word 3 in sentence 1 is: at, its dependency parsing is [prep / prepositional modifier], its POS Tagging is adposition\n",
            "Word 4 in sentence 1 is: the, its dependency parsing is [det / determiner], its POS Tagging is determiner\n",
            "Word 5 in sentence 1 is: Mann, its dependency parsing is [compound / compound], its POS Tagging is proper noun\n",
            "Word 6 in sentence 1 is: Village, its dependency parsing is [compound / compound], its POS Tagging is proper noun\n",
            "Word 7 in sentence 1 is: Theatre, its dependency parsing is [pobj / object of preposition], its POS Tagging is proper noun\n",
            "Word 8 in sentence 1 is: In, its dependency parsing is [prep / prepositional modifier], its POS Tagging is adposition\n",
            "Word 9 in sentence 1 is: Westwood, its dependency parsing is [pobj / object of preposition], its POS Tagging is proper noun\n",
            "Word 10 in sentence 1 is: ., its dependency parsing is [punct / punctuation], its POS Tagging is punctuation\n",
            "\n",
            "The sentence has total [ 78 ] letters\n",
            "Word 1 in sentence 2 is: It, its dependency parsing is [nsubjpass / nominal subject (passive)], its POS Tagging is pronoun\n",
            "Word 2 in sentence 2 is: was, its dependency parsing is [auxpass / auxiliary (passive)], its POS Tagging is auxiliary\n",
            "Word 3 in sentence 2 is: shown, its dependency parsing is [ROOT / root], its POS Tagging is verb\n",
            "Word 4 in sentence 2 is: at, its dependency parsing is [prep / prepositional modifier], its POS Tagging is adposition\n",
            "Word 5 in sentence 2 is: the, its dependency parsing is [det / determiner], its POS Tagging is determiner\n",
            "Word 6 in sentence 2 is: 2001, its dependency parsing is [nummod / numeric modifier], its POS Tagging is numeral\n",
            "Word 7 in sentence 2 is: Cannes, its dependency parsing is [compound / compound], its POS Tagging is proper noun\n",
            "Word 8 in sentence 2 is: Film, its dependency parsing is [compound / compound], its POS Tagging is proper noun\n",
            "Word 9 in sentence 2 is: Festival, its dependency parsing is [pobj / object of preposition], its POS Tagging is proper noun\n",
            "Word 10 in sentence 2 is: ,, its dependency parsing is [punct / punctuation], its POS Tagging is punctuation\n",
            "Word 11 in sentence 2 is: where, its dependency parsing is [advmod / adverbial modifier], its POS Tagging is subordinating conjunction\n",
            "Word 12 in sentence 2 is: it, its dependency parsing is [nsubj / nominal subject], its POS Tagging is pronoun\n",
            "Word 13 in sentence 2 is: competed, its dependency parsing is [relcl / relative clause modifier], its POS Tagging is verb\n",
            "Word 14 in sentence 2 is: for, its dependency parsing is [prep / prepositional modifier], its POS Tagging is adposition\n",
            "Word 15 in sentence 2 is: the, its dependency parsing is [det / determiner], its POS Tagging is determiner\n",
            "Word 16 in sentence 2 is: P'Or, its dependency parsing is [pobj / object of preposition], its POS Tagging is proper noun\n",
            "Word 17 in sentence 2 is: ., its dependency parsing is [punct / punctuation], its POS Tagging is punctuation\n",
            "\n",
            "The sentence has total [ 34 ] letters\n",
            "Word 1 in sentence 3 is: Making, its dependency parsing is [ROOT / root], its POS Tagging is verb\n",
            "Word 2 in sentence 3 is: it, its dependency parsing is [nsubj / nominal subject], its POS Tagging is pronoun\n",
            "Word 3 in sentence 3 is: the, its dependency parsing is [det / determiner], its POS Tagging is determiner\n",
            "Word 4 in sentence 3 is: first, its dependency parsing is [amod / adjectival modifier], its POS Tagging is adjective\n",
            "Word 5 in sentence 3 is: animated, its dependency parsing is [amod / adjectival modifier], its POS Tagging is verb\n",
            "Word 6 in sentence 3 is: film, its dependency parsing is [ccomp / clausal complement], its POS Tagging is noun\n",
            "Word 7 in sentence 3 is: ., its dependency parsing is [punct / punctuation], its POS Tagging is punctuation\n"
          ]
        }
      ],
      "source": [
        "# Print the word/sentence index and their text + dependency parsing\n",
        "a = 0\n",
        "for sent in doc_dep_2.sents:\n",
        "  print(f\"\\nThe sentence has total [ {sent.end_char - sent.start_char} ] letters\")\n",
        "  a += 1\n",
        "  b = 0\n",
        "  for token in sent:\n",
        "    b += 1\n",
        "    print(f\"Word {b} in sentence {a} is: {token.text}, its dependency parsing is [{token.dep_} / {spacy.explain(token.dep_)}], its POS Tagging is {spacy.explain(token.pos_)}\")"
      ]
    },
    {
      "cell_type": "markdown",
      "metadata": {
        "id": "OwfRWtFfSifc"
      },
      "source": [
        "### Example 3: Dependency Parsing Visualization"
      ]
    },
    {
      "cell_type": "code",
      "execution_count": null,
      "metadata": {
        "id": "_KEpQPDLkwCQ"
      },
      "outputs": [],
      "source": [
        "from spacy import displacy"
      ]
    },
    {
      "cell_type": "code",
      "execution_count": null,
      "metadata": {
        "id": "4YxaIrvElKLK"
      },
      "outputs": [],
      "source": [
        "dep_3 = \"The quick brown fox jumps over the lazy dog.\"\n",
        "doc_dep_3 = nlp(dep_3)"
      ]
    },
    {
      "cell_type": "code",
      "execution_count": null,
      "metadata": {
        "colab": {
          "base_uri": "https://localhost:8080/",
          "height": 441
        },
        "id": "gL0lSxyDlOcB",
        "outputId": "4d48dab8-a649-488c-ef60-3b54c79f9a97"
      },
      "outputs": [
        {
          "data": {
            "text/html": [
              "<span class=\"tex2jax_ignore\"><svg xmlns=\"http://www.w3.org/2000/svg\" xmlns:xlink=\"http://www.w3.org/1999/xlink\" xml:lang=\"en\" id=\"ad7030835fb94941940ffd31476c49ec-0\" class=\"displacy\" width=\"1625\" height=\"399.5\" direction=\"ltr\" style=\"max-width: none; height: 399.5px; color: #000000; background: #ffffff; font-family: Arial; direction: ltr\">\n",
              "<text class=\"displacy-token\" fill=\"currentColor\" text-anchor=\"middle\" y=\"309.5\">\n",
              "    <tspan class=\"displacy-word\" fill=\"currentColor\" x=\"50\">The</tspan>\n",
              "    <tspan class=\"displacy-tag\" dy=\"2em\" fill=\"currentColor\" x=\"50\">DET</tspan>\n",
              "</text>\n",
              "\n",
              "<text class=\"displacy-token\" fill=\"currentColor\" text-anchor=\"middle\" y=\"309.5\">\n",
              "    <tspan class=\"displacy-word\" fill=\"currentColor\" x=\"225\">quick</tspan>\n",
              "    <tspan class=\"displacy-tag\" dy=\"2em\" fill=\"currentColor\" x=\"225\">ADJ</tspan>\n",
              "</text>\n",
              "\n",
              "<text class=\"displacy-token\" fill=\"currentColor\" text-anchor=\"middle\" y=\"309.5\">\n",
              "    <tspan class=\"displacy-word\" fill=\"currentColor\" x=\"400\">brown</tspan>\n",
              "    <tspan class=\"displacy-tag\" dy=\"2em\" fill=\"currentColor\" x=\"400\">ADJ</tspan>\n",
              "</text>\n",
              "\n",
              "<text class=\"displacy-token\" fill=\"currentColor\" text-anchor=\"middle\" y=\"309.5\">\n",
              "    <tspan class=\"displacy-word\" fill=\"currentColor\" x=\"575\">fox</tspan>\n",
              "    <tspan class=\"displacy-tag\" dy=\"2em\" fill=\"currentColor\" x=\"575\">NOUN</tspan>\n",
              "</text>\n",
              "\n",
              "<text class=\"displacy-token\" fill=\"currentColor\" text-anchor=\"middle\" y=\"309.5\">\n",
              "    <tspan class=\"displacy-word\" fill=\"currentColor\" x=\"750\">jumps</tspan>\n",
              "    <tspan class=\"displacy-tag\" dy=\"2em\" fill=\"currentColor\" x=\"750\">VERB</tspan>\n",
              "</text>\n",
              "\n",
              "<text class=\"displacy-token\" fill=\"currentColor\" text-anchor=\"middle\" y=\"309.5\">\n",
              "    <tspan class=\"displacy-word\" fill=\"currentColor\" x=\"925\">over</tspan>\n",
              "    <tspan class=\"displacy-tag\" dy=\"2em\" fill=\"currentColor\" x=\"925\">ADP</tspan>\n",
              "</text>\n",
              "\n",
              "<text class=\"displacy-token\" fill=\"currentColor\" text-anchor=\"middle\" y=\"309.5\">\n",
              "    <tspan class=\"displacy-word\" fill=\"currentColor\" x=\"1100\">the</tspan>\n",
              "    <tspan class=\"displacy-tag\" dy=\"2em\" fill=\"currentColor\" x=\"1100\">DET</tspan>\n",
              "</text>\n",
              "\n",
              "<text class=\"displacy-token\" fill=\"currentColor\" text-anchor=\"middle\" y=\"309.5\">\n",
              "    <tspan class=\"displacy-word\" fill=\"currentColor\" x=\"1275\">lazy</tspan>\n",
              "    <tspan class=\"displacy-tag\" dy=\"2em\" fill=\"currentColor\" x=\"1275\">ADJ</tspan>\n",
              "</text>\n",
              "\n",
              "<text class=\"displacy-token\" fill=\"currentColor\" text-anchor=\"middle\" y=\"309.5\">\n",
              "    <tspan class=\"displacy-word\" fill=\"currentColor\" x=\"1450\">dog.</tspan>\n",
              "    <tspan class=\"displacy-tag\" dy=\"2em\" fill=\"currentColor\" x=\"1450\">NOUN</tspan>\n",
              "</text>\n",
              "\n",
              "<g class=\"displacy-arrow\">\n",
              "    <path class=\"displacy-arc\" id=\"arrow-ad7030835fb94941940ffd31476c49ec-0-0\" stroke-width=\"2px\" d=\"M70,264.5 C70,2.0 575.0,2.0 575.0,264.5\" fill=\"none\" stroke=\"currentColor\"/>\n",
              "    <text dy=\"1.25em\" style=\"font-size: 0.8em; letter-spacing: 1px\">\n",
              "        <textPath xlink:href=\"#arrow-ad7030835fb94941940ffd31476c49ec-0-0\" class=\"displacy-label\" startOffset=\"50%\" side=\"left\" fill=\"currentColor\" text-anchor=\"middle\">det</textPath>\n",
              "    </text>\n",
              "    <path class=\"displacy-arrowhead\" d=\"M70,266.5 L62,254.5 78,254.5\" fill=\"currentColor\"/>\n",
              "</g>\n",
              "\n",
              "<g class=\"displacy-arrow\">\n",
              "    <path class=\"displacy-arc\" id=\"arrow-ad7030835fb94941940ffd31476c49ec-0-1\" stroke-width=\"2px\" d=\"M245,264.5 C245,89.5 570.0,89.5 570.0,264.5\" fill=\"none\" stroke=\"currentColor\"/>\n",
              "    <text dy=\"1.25em\" style=\"font-size: 0.8em; letter-spacing: 1px\">\n",
              "        <textPath xlink:href=\"#arrow-ad7030835fb94941940ffd31476c49ec-0-1\" class=\"displacy-label\" startOffset=\"50%\" side=\"left\" fill=\"currentColor\" text-anchor=\"middle\">amod</textPath>\n",
              "    </text>\n",
              "    <path class=\"displacy-arrowhead\" d=\"M245,266.5 L237,254.5 253,254.5\" fill=\"currentColor\"/>\n",
              "</g>\n",
              "\n",
              "<g class=\"displacy-arrow\">\n",
              "    <path class=\"displacy-arc\" id=\"arrow-ad7030835fb94941940ffd31476c49ec-0-2\" stroke-width=\"2px\" d=\"M420,264.5 C420,177.0 565.0,177.0 565.0,264.5\" fill=\"none\" stroke=\"currentColor\"/>\n",
              "    <text dy=\"1.25em\" style=\"font-size: 0.8em; letter-spacing: 1px\">\n",
              "        <textPath xlink:href=\"#arrow-ad7030835fb94941940ffd31476c49ec-0-2\" class=\"displacy-label\" startOffset=\"50%\" side=\"left\" fill=\"currentColor\" text-anchor=\"middle\">amod</textPath>\n",
              "    </text>\n",
              "    <path class=\"displacy-arrowhead\" d=\"M420,266.5 L412,254.5 428,254.5\" fill=\"currentColor\"/>\n",
              "</g>\n",
              "\n",
              "<g class=\"displacy-arrow\">\n",
              "    <path class=\"displacy-arc\" id=\"arrow-ad7030835fb94941940ffd31476c49ec-0-3\" stroke-width=\"2px\" d=\"M595,264.5 C595,177.0 740.0,177.0 740.0,264.5\" fill=\"none\" stroke=\"currentColor\"/>\n",
              "    <text dy=\"1.25em\" style=\"font-size: 0.8em; letter-spacing: 1px\">\n",
              "        <textPath xlink:href=\"#arrow-ad7030835fb94941940ffd31476c49ec-0-3\" class=\"displacy-label\" startOffset=\"50%\" side=\"left\" fill=\"currentColor\" text-anchor=\"middle\">nsubj</textPath>\n",
              "    </text>\n",
              "    <path class=\"displacy-arrowhead\" d=\"M595,266.5 L587,254.5 603,254.5\" fill=\"currentColor\"/>\n",
              "</g>\n",
              "\n",
              "<g class=\"displacy-arrow\">\n",
              "    <path class=\"displacy-arc\" id=\"arrow-ad7030835fb94941940ffd31476c49ec-0-4\" stroke-width=\"2px\" d=\"M770,264.5 C770,177.0 915.0,177.0 915.0,264.5\" fill=\"none\" stroke=\"currentColor\"/>\n",
              "    <text dy=\"1.25em\" style=\"font-size: 0.8em; letter-spacing: 1px\">\n",
              "        <textPath xlink:href=\"#arrow-ad7030835fb94941940ffd31476c49ec-0-4\" class=\"displacy-label\" startOffset=\"50%\" side=\"left\" fill=\"currentColor\" text-anchor=\"middle\">prep</textPath>\n",
              "    </text>\n",
              "    <path class=\"displacy-arrowhead\" d=\"M915.0,266.5 L923.0,254.5 907.0,254.5\" fill=\"currentColor\"/>\n",
              "</g>\n",
              "\n",
              "<g class=\"displacy-arrow\">\n",
              "    <path class=\"displacy-arc\" id=\"arrow-ad7030835fb94941940ffd31476c49ec-0-5\" stroke-width=\"2px\" d=\"M1120,264.5 C1120,89.5 1445.0,89.5 1445.0,264.5\" fill=\"none\" stroke=\"currentColor\"/>\n",
              "    <text dy=\"1.25em\" style=\"font-size: 0.8em; letter-spacing: 1px\">\n",
              "        <textPath xlink:href=\"#arrow-ad7030835fb94941940ffd31476c49ec-0-5\" class=\"displacy-label\" startOffset=\"50%\" side=\"left\" fill=\"currentColor\" text-anchor=\"middle\">det</textPath>\n",
              "    </text>\n",
              "    <path class=\"displacy-arrowhead\" d=\"M1120,266.5 L1112,254.5 1128,254.5\" fill=\"currentColor\"/>\n",
              "</g>\n",
              "\n",
              "<g class=\"displacy-arrow\">\n",
              "    <path class=\"displacy-arc\" id=\"arrow-ad7030835fb94941940ffd31476c49ec-0-6\" stroke-width=\"2px\" d=\"M1295,264.5 C1295,177.0 1440.0,177.0 1440.0,264.5\" fill=\"none\" stroke=\"currentColor\"/>\n",
              "    <text dy=\"1.25em\" style=\"font-size: 0.8em; letter-spacing: 1px\">\n",
              "        <textPath xlink:href=\"#arrow-ad7030835fb94941940ffd31476c49ec-0-6\" class=\"displacy-label\" startOffset=\"50%\" side=\"left\" fill=\"currentColor\" text-anchor=\"middle\">amod</textPath>\n",
              "    </text>\n",
              "    <path class=\"displacy-arrowhead\" d=\"M1295,266.5 L1287,254.5 1303,254.5\" fill=\"currentColor\"/>\n",
              "</g>\n",
              "\n",
              "<g class=\"displacy-arrow\">\n",
              "    <path class=\"displacy-arc\" id=\"arrow-ad7030835fb94941940ffd31476c49ec-0-7\" stroke-width=\"2px\" d=\"M945,264.5 C945,2.0 1450.0,2.0 1450.0,264.5\" fill=\"none\" stroke=\"currentColor\"/>\n",
              "    <text dy=\"1.25em\" style=\"font-size: 0.8em; letter-spacing: 1px\">\n",
              "        <textPath xlink:href=\"#arrow-ad7030835fb94941940ffd31476c49ec-0-7\" class=\"displacy-label\" startOffset=\"50%\" side=\"left\" fill=\"currentColor\" text-anchor=\"middle\">pobj</textPath>\n",
              "    </text>\n",
              "    <path class=\"displacy-arrowhead\" d=\"M1450.0,266.5 L1458.0,254.5 1442.0,254.5\" fill=\"currentColor\"/>\n",
              "</g>\n",
              "</svg></span>"
            ],
            "text/plain": [
              "<IPython.core.display.HTML object>"
            ]
          },
          "metadata": {},
          "output_type": "display_data"
        }
      ],
      "source": [
        "# Visualize the dependency tree\n",
        "displacy.render(doc_dep_3, style=\"dep\", jupyter=True)"
      ]
    },
    {
      "cell_type": "markdown",
      "metadata": {
        "id": "1xDairQsldkj"
      },
      "source": [
        "## **Text Similarity**"
      ]
    },
    {
      "cell_type": "markdown",
      "metadata": {
        "id": "q-G_zgZ1l_Zo"
      },
      "source": [
        "### Example 1: Simple Similarity"
      ]
    },
    {
      "cell_type": "code",
      "execution_count": null,
      "metadata": {
        "colab": {
          "base_uri": "https://localhost:8080/"
        },
        "id": "BuiJ87h-l9AJ",
        "outputId": "3162312a-921d-4d80-edc0-a530fba70165"
      },
      "outputs": [
        {
          "name": "stdout",
          "output_type": "stream",
          "text": [
            "Similarity: 88.09 % \n"
          ]
        },
        {
          "name": "stderr",
          "output_type": "stream",
          "text": [
            "<ipython-input-49-f481b4b68bde>:4: UserWarning: [W007] The model you're using has no word vectors loaded, so the result of the Doc.similarity method will be based on the tagger, parser and NER, which may not give useful similarity judgements. This may happen if you're using one of the small models, e.g. `en_core_web_sm`, which don't ship with word vectors and only use context-sensitive tensors. You can always add your own word vectors, or use one of the larger models instead if available.\n",
            "  similarity_12 = sim_1.similarity(sim_2)\n"
          ]
        }
      ],
      "source": [
        "# Compute Similarity between 2 sentences\n",
        "sim_1 = nlp(\"The cat sat on the mat.\")\n",
        "sim_2 = nlp(\"The dog lay on the rug.\")\n",
        "similarity_12 = sim_1.similarity(sim_2)\n",
        "print(f\"Similarity: {round(similarity_12 * 100, 2)} % \")"
      ]
    },
    {
      "cell_type": "markdown",
      "metadata": {
        "id": "i0ozwjUNmvAD"
      },
      "source": [
        "### Example 2: Document Similarity"
      ]
    },
    {
      "cell_type": "code",
      "execution_count": null,
      "metadata": {
        "colab": {
          "base_uri": "https://localhost:8080/"
        },
        "id": "_DmiiC15lfXx",
        "outputId": "d1676eac-8da3-4ade-834f-8f83af454440"
      },
      "outputs": [
        {
          "name": "stdout",
          "output_type": "stream",
          "text": [
            "Similarity: 73.29 % \n"
          ]
        },
        {
          "name": "stderr",
          "output_type": "stream",
          "text": [
            "<ipython-input-50-515372c4a60d>:4: UserWarning: [W007] The model you're using has no word vectors loaded, so the result of the Doc.similarity method will be based on the tagger, parser and NER, which may not give useful similarity judgements. This may happen if you're using one of the small models, e.g. `en_core_web_sm`, which don't ship with word vectors and only use context-sensitive tensors. You can always add your own word vectors, or use one of the larger models instead if available.\n",
            "  similarity_34 = sim_3.similarity(sim_4)\n"
          ]
        }
      ],
      "source": [
        "# Compute Similarity between 2 documents\n",
        "sim_3 = nlp(\"Shrek is a 2001 American animated fantasy comedy film loosely based on the 1990 children's picture book of the same name by William Steig.\")\n",
        "sim_4 = nlp(\"Shrek premiered at the Mann Village Theatre In Westwood, and at the 2001 Cannes Film Festival, making it the first animated film since Disney's Peter Pan to be chosen to do so.\")\n",
        "similarity_34 = sim_3.similarity(sim_4)\n",
        "print(f\"Similarity: {round(similarity_34 * 100, 2)} % \")"
      ]
    },
    {
      "cell_type": "markdown",
      "metadata": {
        "id": "5lB1j9DFnwTa"
      },
      "source": [
        "### Example 3: Word Similarity"
      ]
    },
    {
      "cell_type": "code",
      "execution_count": null,
      "metadata": {
        "colab": {
          "base_uri": "https://localhost:8080/"
        },
        "id": "RocAS-genuf5",
        "outputId": "a15b35fe-427e-4d76-caf9-cde0afd058a5"
      },
      "outputs": [
        {
          "name": "stdout",
          "output_type": "stream",
          "text": [
            "Similarity: 57.39 % \n"
          ]
        },
        {
          "name": "stderr",
          "output_type": "stream",
          "text": [
            "<ipython-input-53-3a119f6f0b3a>:4: UserWarning: [W007] The model you're using has no word vectors loaded, so the result of the Doc.similarity method will be based on the tagger, parser and NER, which may not give useful similarity judgements. This may happen if you're using one of the small models, e.g. `en_core_web_sm`, which don't ship with word vectors and only use context-sensitive tensors. You can always add your own word vectors, or use one of the larger models instead if available.\n",
            "  similarity_56 = sim_5.similarity(sim_6)\n"
          ]
        }
      ],
      "source": [
        "# Compute Similarity between 2 words\n",
        "sim_5 = nlp(\"elephant\")\n",
        "sim_6 = nlp(\"giraffe\")\n",
        "similarity_56 = sim_5.similarity(sim_6)\n",
        "print(f\"Similarity: {round(similarity_56 * 100, 2)} % \")"
      ]
    },
    {
      "cell_type": "markdown",
      "metadata": {
        "id": "ESADm--soK46"
      },
      "source": [
        "## **Text Classification**"
      ]
    },
    {
      "cell_type": "code",
      "execution_count": null,
      "metadata": {
        "id": "VjC1S0XvoCUC"
      },
      "outputs": [],
      "source": [
        "from sklearn.svm import SVC\n",
        "from sklearn.pipeline import Pipeline\n",
        "from sklearn.feature_extraction.text import TfidfVectorizer"
      ]
    },
    {
      "cell_type": "code",
      "execution_count": null,
      "metadata": {
        "id": "b-XzRW7VotTp"
      },
      "outputs": [],
      "source": [
        "# Define a simple text classification pipeline\n",
        "text_classification_pipeline = Pipeline([\n",
        "    (\"tfidf\", TfidfVectorizer()),\n",
        "    (\"clf\", SVC(kernel=\"linear\"))\n",
        "])"
      ]
    },
    {
      "cell_type": "markdown",
      "metadata": {
        "id": "0Ro3RkoYbcE9"
      },
      "source": [
        "### Example 1: Simple Binary Classification"
      ]
    },
    {
      "cell_type": "code",
      "execution_count": null,
      "metadata": {
        "colab": {
          "base_uri": "https://localhost:8080/"
        },
        "id": "l-M7Iqugo9ZJ",
        "outputId": "11345233-5f8f-45a5-c084-87777f8df695"
      },
      "outputs": [
        {
          "name": "stdout",
          "output_type": "stream",
          "text": [
            "Predictions: ['positive' 'negative' 'negative']\n"
          ]
        }
      ],
      "source": [
        "# Sample Training data\n",
        "X_train = [\"This is a positive review.\", \"This is a negative review.\"]\n",
        "y_train = [\"positive\", \"negative\"]\n",
        "\n",
        "# Fit the text classification model\n",
        "text_classification_pipeline.fit(X_train, y_train)\n",
        "\n",
        "# Sample test data\n",
        "X_test = [\"This movie is positive!\", \"This movie is negative!\", \"This movie must be deleted at all costs because it has so many negative review\"]\n",
        "\n",
        "# Predict categories for test data\n",
        "predictions = text_classification_pipeline.predict(X_test)\n",
        "print(\"Predictions:\", predictions)"
      ]
    },
    {
      "cell_type": "markdown",
      "metadata": {
        "id": "6dKtFbb2bhvq"
      },
      "source": [
        "### Example 2: Custom Text Classification"
      ]
    },
    {
      "cell_type": "code",
      "execution_count": null,
      "metadata": {
        "colab": {
          "base_uri": "https://localhost:8080/"
        },
        "id": "wAYEoIVDpOOr",
        "outputId": "52f548e5-98e1-4181-de22-fa7ec72863ba"
      },
      "outputs": [
        {
          "name": "stdout",
          "output_type": "stream",
          "text": [
            "Text1 Classification: PERSON\n",
            "Text2 Classification: OTHER\n",
            "Text3 Classification: OTHER\n"
          ]
        }
      ],
      "source": [
        "# Define a custom text classification model using spaCy features\n",
        "def spacy_text_classifier(text):\n",
        "  doc = nlp(text)\n",
        "  # Example: classifying based on presence of certain entities\n",
        "  if any(ent.label_ == \"PERSON\" for ent in doc.ents):\n",
        "    return \"PERSON\"\n",
        "  elif any(ent.label_ == \"ORGANIZATION\" for ent in doc.ents):\n",
        "    return \"ORGANIZATION\"\n",
        "  else:\n",
        "    return \"OTHER\"\n",
        "\n",
        "# Test the custom text classifier\n",
        "text_1 = \"Barack Obama was the President of the United States\"\n",
        "text_2 = \"Amazon's Revenue this year is 200 billion USD\"\n",
        "text_3 = \"My dad was my hero\"\n",
        "\n",
        "print(\"Text1 Classification:\", spacy_text_classifier(text_1))\n",
        "print(\"Text2 Classification:\", spacy_text_classifier(text_2))\n",
        "print(\"Text3 Classification:\", spacy_text_classifier(text_3))"
      ]
    },
    {
      "cell_type": "markdown",
      "source": [
        "##**Word Vectorization**"
      ],
      "metadata": {
        "id": "4EPXCfUzlSF1"
      }
    },
    {
      "cell_type": "markdown",
      "source": [
        "### Example 1: Single-word Vectorization"
      ],
      "metadata": {
        "id": "xcbDJPUzlUnk"
      }
    },
    {
      "cell_type": "code",
      "source": [
        "word_list = [\"cat\", \"dog\", \"apple\", \"lemonade\", \"toy\", \"dinosaurs\", \"animal\", \"Martin\", \"Chinese\", \"Vietnamese\", \"black\", \"autumn\"]"
      ],
      "metadata": {
        "id": "O-fqOO1klkO8"
      },
      "execution_count": 20,
      "outputs": []
    },
    {
      "cell_type": "code",
      "source": [
        "for word in word_list:\n",
        "  doc_word = nlp(word)\n",
        "  vector = doc_word.vector[:3]\n",
        "  print(f\"Vector of {word} is {vector}\")"
      ],
      "metadata": {
        "colab": {
          "base_uri": "https://localhost:8080/"
        },
        "id": "9eXX5hWNl1Cc",
        "outputId": "607d2ce6-b42f-4442-890b-310c2dedcc91"
      },
      "execution_count": 22,
      "outputs": [
        {
          "output_type": "stream",
          "name": "stdout",
          "text": [
            "Vector of cat is [-1.3749216  -0.9209707  -0.48585108]\n",
            "Vector of dog is [-1.6806675  -1.2663747  -0.71255565]\n",
            "Vector of apple is [-1.2599487  -0.87038326 -1.0834986 ]\n",
            "Vector of lemonade is [-1.6263449  -0.2931102  -0.51256025]\n",
            "Vector of toy is [-1.4421012 -0.928125  -1.1336758]\n",
            "Vector of dinosaurs is [-0.52412915  0.67276394  0.14787653]\n",
            "Vector of animal is [-1.848459  -1.1953701 -0.4190052]\n",
            "Vector of Martin is [-1.907685   -0.09650317 -0.3161859 ]\n",
            "Vector of Chinese is [-1.1079756  -0.37069964 -0.9406413 ]\n",
            "Vector of Vietnamese is [-1.2938046  -0.18000111 -1.0216382 ]\n",
            "Vector of black is [-1.8262893  -1.787104   -0.47396478]\n",
            "Vector of autumn is [-1.590935  -1.3176191 -1.4198819]\n"
          ]
        }
      ]
    },
    {
      "cell_type": "markdown",
      "source": [
        "### Example 2: Word Vectorization in Sentence Structure"
      ],
      "metadata": {
        "id": "om8d9HFClhbc"
      }
    },
    {
      "cell_type": "code",
      "source": [
        "sent_vec = \"I want to be the best students on the planet. With this title, I can be so famous and earn a lot of money\"\n",
        "doc_sent_vec = nlp(sent_vec)"
      ],
      "metadata": {
        "id": "DrfBL1NOmpJN"
      },
      "execution_count": 25,
      "outputs": []
    },
    {
      "cell_type": "code",
      "source": [
        "for sent in doc_sent_vec.sents:\n",
        "  for token in sent:\n",
        "    print(f\"Token ID: {token.i}, token text: {token.text}, first 2 vectors: {token.vector[:2]}\")"
      ],
      "metadata": {
        "colab": {
          "base_uri": "https://localhost:8080/"
        },
        "id": "BJ3pswNCmy6z",
        "outputId": "8a224eea-29ce-4428-9068-e4d3f0fecbd2"
      },
      "execution_count": 26,
      "outputs": [
        {
          "output_type": "stream",
          "name": "stdout",
          "text": [
            "Token ID: 0, token text: I, first 2 vectors: [-1.2726469  -0.55084884]\n",
            "Token ID: 1, token text: want, first 2 vectors: [ 0.24857768 -0.3973046 ]\n",
            "Token ID: 2, token text: to, first 2 vectors: [-1.0477109 -0.9864377]\n",
            "Token ID: 3, token text: be, first 2 vectors: [-1.5539343  -0.02412109]\n",
            "Token ID: 4, token text: the, first 2 vectors: [0.77335215 0.83330375]\n",
            "Token ID: 5, token text: best, first 2 vectors: [-0.97872555 -1.7390311 ]\n",
            "Token ID: 6, token text: students, first 2 vectors: [-0.7634615  1.4236249]\n",
            "Token ID: 7, token text: on, first 2 vectors: [ 0.7723517  -0.04488764]\n",
            "Token ID: 8, token text: the, first 2 vectors: [1.9377446  0.48467484]\n",
            "Token ID: 9, token text: planet, first 2 vectors: [-0.913363   -0.47031605]\n",
            "Token ID: 10, token text: ., first 2 vectors: [-0.22269934 -0.883154  ]\n",
            "Token ID: 11, token text: With, first 2 vectors: [-1.2187836 -0.9501754]\n",
            "Token ID: 12, token text: this, first 2 vectors: [ 1.5580131  -0.29074976]\n",
            "Token ID: 13, token text: title, first 2 vectors: [-0.31253892 -1.0051931 ]\n",
            "Token ID: 14, token text: ,, first 2 vectors: [ 0.8094473 -0.6682982]\n",
            "Token ID: 15, token text: I, first 2 vectors: [-0.8525015   0.12453212]\n",
            "Token ID: 16, token text: can, first 2 vectors: [0.31117657 0.50787294]\n",
            "Token ID: 17, token text: be, first 2 vectors: [-1.4121002  -0.43889296]\n",
            "Token ID: 18, token text: so, first 2 vectors: [1.0917364 0.909358 ]\n",
            "Token ID: 19, token text: famous, first 2 vectors: [ 0.67693365 -0.9470904 ]\n",
            "Token ID: 20, token text: and, first 2 vectors: [-0.41456538 -0.10943361]\n",
            "Token ID: 21, token text: earn, first 2 vectors: [-0.38713777 -0.28376818]\n",
            "Token ID: 22, token text: a, first 2 vectors: [1.7729996 0.4907738]\n",
            "Token ID: 23, token text: lot, first 2 vectors: [-0.16113123 -0.55839324]\n",
            "Token ID: 24, token text: of, first 2 vectors: [ 1.1362666 -0.777598 ]\n",
            "Token ID: 25, token text: money, first 2 vectors: [-0.38499343 -0.19268763]\n"
          ]
        }
      ]
    },
    {
      "cell_type": "markdown",
      "source": [
        "##**Topic Modelling**"
      ],
      "metadata": {
        "id": "pVN0KHpwpKoc"
      }
    },
    {
      "cell_type": "markdown",
      "source": [
        "### Example: Simple Topic Modelling"
      ],
      "metadata": {
        "id": "LLjMXXz5pMhs"
      }
    },
    {
      "cell_type": "code",
      "source": [
        "import gensim\n",
        "from gensim import corpora"
      ],
      "metadata": {
        "id": "v3tOcNeapL_r"
      },
      "execution_count": 30,
      "outputs": []
    },
    {
      "cell_type": "code",
      "source": [
        "# Sample Documents\n",
        "documents = [\n",
        "    \"Machine Learning is such an exciting field of technology\",\n",
        "    \"Artificial Intelligence is the innovation of the century\",\n",
        "    \"Deep Learning Models have achived state-of-the-arts results\",\n",
        "    \"The greatest movie of all time is Breaking Bad. It is available in 150 regions\"\n",
        "]"
      ],
      "metadata": {
        "id": "EYK7PoAFpWn6"
      },
      "execution_count": 2,
      "outputs": []
    },
    {
      "cell_type": "code",
      "source": [
        "# Tokenize documents\n",
        "tokenized_doc = [doc.lower().split() for doc in documents]"
      ],
      "metadata": {
        "id": "lQ-WAS7sptii"
      },
      "execution_count": 3,
      "outputs": []
    },
    {
      "cell_type": "code",
      "source": [
        "# Create Dictionaries\n",
        "dictionaries_t = corpora.Dictionary(tokenized_doc)\n",
        "corpus = [dictionaries_t.doc2bow(doc) for doc in tokenized_doc]"
      ],
      "metadata": {
        "id": "R5X3W-tvp4Mz"
      },
      "execution_count": 4,
      "outputs": []
    },
    {
      "cell_type": "code",
      "source": [
        "# Apply LDA (Latent Dirichlet Allocation) for topic modelling\n",
        "lda_model = gensim.models.LdaModel(corpus, num_topics=4, id2word = dictionaries_t)"
      ],
      "metadata": {
        "colab": {
          "base_uri": "https://localhost:8080/"
        },
        "id": "dfGI24N9rqbL",
        "outputId": "9796d7d5-ec57-4a5b-c5a0-2b6e0e299e11"
      },
      "execution_count": 7,
      "outputs": [
        {
          "output_type": "stream",
          "name": "stderr",
          "text": [
            "WARNING:gensim.models.ldamodel:too few updates, training might not converge; consider increasing the number of passes or iterations to improve accuracy\n"
          ]
        }
      ]
    },
    {
      "cell_type": "code",
      "source": [
        "# Print topics\n",
        "for topic in lda_model.print_topics():\n",
        "    print(topic)"
      ],
      "metadata": {
        "colab": {
          "base_uri": "https://localhost:8080/"
        },
        "id": "oHCoLVVBsHwr",
        "outputId": "c4dd7ef5-ed66-47ea-c25c-794cf43a6409"
      },
      "execution_count": 8,
      "outputs": [
        {
          "output_type": "stream",
          "name": "stdout",
          "text": [
            "(0, '0.033*\"of\" + 0.033*\"learning\" + 0.033*\"is\" + 0.032*\"the\" + 0.032*\"such\" + 0.032*\"achived\" + 0.032*\"models\" + 0.032*\"machine\" + 0.032*\"have\" + 0.032*\"state-of-the-arts\"')\n",
            "(1, '0.084*\"learning\" + 0.084*\"state-of-the-arts\" + 0.084*\"deep\" + 0.084*\"results\" + 0.084*\"have\" + 0.084*\"models\" + 0.084*\"achived\" + 0.017*\"the\" + 0.017*\"of\" + 0.017*\"is\"')\n",
            "(2, '0.103*\"is\" + 0.084*\"of\" + 0.081*\"the\" + 0.036*\"learning\" + 0.036*\"exciting\" + 0.036*\"intelligence\" + 0.036*\"technology\" + 0.036*\"an\" + 0.036*\"century\" + 0.036*\"field\"')\n",
            "(3, '0.073*\"is\" + 0.054*\"bad.\" + 0.054*\"the\" + 0.049*\"greatest\" + 0.047*\"movie\" + 0.046*\"breaking\" + 0.046*\"of\" + 0.045*\"it\" + 0.045*\"regions\" + 0.044*\"all\"')\n"
          ]
        }
      ]
    },
    {
      "cell_type": "markdown",
      "source": [
        "### **Text Summarization**"
      ],
      "metadata": {
        "id": "o-GdapYrKMp_"
      }
    },
    {
      "cell_type": "code",
      "source": [
        "from transformers import pipeline\n",
        "\n",
        "# Example text\n",
        "text = \"Text summarization is the process of automatically generating a concise and coherent summary of a longer document while preserving its key information. There are two main approaches to text summarization: extraction-based and abstraction-based summarization.\"\n",
        "\n",
        "# Use the transformers library for summarization\n",
        "summarizer = pipeline(\"summarization\")\n",
        "summary = summarizer(text, max_length=50, min_length=10, do_sample=False)\n",
        "\n",
        "# Print summary\n",
        "print(summary[0]['summary_text'])"
      ],
      "metadata": {
        "colab": {
          "base_uri": "https://localhost:8080/",
          "height": 371,
          "referenced_widgets": [
            "b004a250945f467cb445c02aa827dd59",
            "67b6212ea0ee4057a149bc02b049648d",
            "21b14960e734467fa82c920327a937e7",
            "2420a51fa365492299388a0a92ac1615",
            "588b2d68df0b457f8a54512834508b6f",
            "c9be263d3e594c1f80218f50fcaa2f4c",
            "9ef0919321f94d408d620f69707713cc",
            "59544b80cea34a9c9ed2052fa459c90e",
            "8897be090f3147e6af6e408b83ca0ce6",
            "2144f0a88cfe4607b95a9f87f8527de0",
            "a242f3ad31374261b2bcc4dcf9ed228c",
            "9302b80a818a4d6db30f9479bd9a0203",
            "945ba064df7142ea89765d0abbd55201",
            "b64b13878ab34b10ab7cb271516a4d53",
            "6861e524320340ca9bf16a8d342fcffa",
            "67069489406a4a0c9f35101ce54e6360",
            "03f9585dc4cb40b3ae87a0a9ffecbdee",
            "4b78b50010ea435ea8f457b9da160090",
            "ddb397bbf0874d1eb56a986e2fac206a",
            "9a55c3b40d1540618282e9d8725e17bb",
            "64083d267732435b9312c120ed9752bf",
            "a4981a2e29764b63ac9355995ed0fe59",
            "f631829948744a348b092d96e1703889",
            "8598eb669e8f4c71a5fdcb8db0d2d511",
            "8e3009e1630d489fa9db90fd045b4624",
            "fc8e624d36e249eab882a370aa1db0a3",
            "81082922adfa4bcea7656d66fe9c6c83",
            "1e288208f0ab4616a628fbcbcb66df44",
            "6d21af3e152f4631b1e50d60e9b49c29",
            "d6e51c4ec35d49cf8c4bcb9e0d9b1119",
            "a8a3e0a5131c48e0acd0afb47f699582",
            "e821fcb26f594470becbb2380a6c0a86",
            "c11e69045ecc47c3b497ed91fb531599",
            "e70be482379e4d6bbf1eefdd1c7dfd29",
            "e7052561cf30429484a52600d85a1cc7",
            "d3fe9c12722e4b7892ef1660d41c6710",
            "b0c49f60f1b649d48915613be205cc9f",
            "853d93db035f4a288575e3a9eac2a09f",
            "b9edec8e415b4c5387896b02329d76d3",
            "f3cdbfce134040e1a52c1deab31231d5",
            "a972736572f84a56b0871821ec289e19",
            "cdfed34e8faa484db6f97ccad7c799eb",
            "64a368e1ba4d436c8a7f6564d860c8c4",
            "1c70a353419746a7bdfe7358768857b2",
            "a9b4d02ea2b34925b7de5b2afba13f5e",
            "7a3d890822df43e7b8c45a8b1ec46ec4",
            "084ceba2a3ba44a7866a1026c698f3c1",
            "1197b1ec6b9a4e18adaec2fb45d36034",
            "890576f119994111a34a610d7d7d2eb9",
            "3b86086e5ecb4a069d2df3f1d90ecdb6",
            "6ea1d670964749278f7ef27a85bd8be5",
            "01dcf2697ecd435eb7838421f8c78015",
            "4c276ec343c749de99a74d8d49a1cb5e",
            "84106069311746d793e1686070b0ff9f",
            "3884716e64eb469c890b12d4d3cd113b"
          ]
        },
        "id": "MrPU1cXaKMNY",
        "outputId": "053c9e6e-9a91-4b9b-c143-0631a30c182b"
      },
      "execution_count": 9,
      "outputs": [
        {
          "output_type": "stream",
          "name": "stderr",
          "text": [
            "No model was supplied, defaulted to sshleifer/distilbart-cnn-12-6 and revision a4f8f3e (https://huggingface.co/sshleifer/distilbart-cnn-12-6).\n",
            "Using a pipeline without specifying a model name and revision in production is not recommended.\n",
            "/usr/local/lib/python3.10/dist-packages/huggingface_hub/utils/_token.py:88: UserWarning: \n",
            "The secret `HF_TOKEN` does not exist in your Colab secrets.\n",
            "To authenticate with the Hugging Face Hub, create a token in your settings tab (https://huggingface.co/settings/tokens), set it as secret in your Google Colab and restart your session.\n",
            "You will be able to reuse this secret in all of your notebooks.\n",
            "Please note that authentication is recommended but still optional to access public models or datasets.\n",
            "  warnings.warn(\n"
          ]
        },
        {
          "output_type": "display_data",
          "data": {
            "text/plain": [
              "config.json:   0%|          | 0.00/1.80k [00:00<?, ?B/s]"
            ],
            "application/vnd.jupyter.widget-view+json": {
              "version_major": 2,
              "version_minor": 0,
              "model_id": "b004a250945f467cb445c02aa827dd59"
            }
          },
          "metadata": {}
        },
        {
          "output_type": "display_data",
          "data": {
            "text/plain": [
              "pytorch_model.bin:   0%|          | 0.00/1.22G [00:00<?, ?B/s]"
            ],
            "application/vnd.jupyter.widget-view+json": {
              "version_major": 2,
              "version_minor": 0,
              "model_id": "9302b80a818a4d6db30f9479bd9a0203"
            }
          },
          "metadata": {}
        },
        {
          "output_type": "display_data",
          "data": {
            "text/plain": [
              "tokenizer_config.json:   0%|          | 0.00/26.0 [00:00<?, ?B/s]"
            ],
            "application/vnd.jupyter.widget-view+json": {
              "version_major": 2,
              "version_minor": 0,
              "model_id": "f631829948744a348b092d96e1703889"
            }
          },
          "metadata": {}
        },
        {
          "output_type": "display_data",
          "data": {
            "text/plain": [
              "vocab.json:   0%|          | 0.00/899k [00:00<?, ?B/s]"
            ],
            "application/vnd.jupyter.widget-view+json": {
              "version_major": 2,
              "version_minor": 0,
              "model_id": "e70be482379e4d6bbf1eefdd1c7dfd29"
            }
          },
          "metadata": {}
        },
        {
          "output_type": "display_data",
          "data": {
            "text/plain": [
              "merges.txt:   0%|          | 0.00/456k [00:00<?, ?B/s]"
            ],
            "application/vnd.jupyter.widget-view+json": {
              "version_major": 2,
              "version_minor": 0,
              "model_id": "a9b4d02ea2b34925b7de5b2afba13f5e"
            }
          },
          "metadata": {}
        },
        {
          "output_type": "stream",
          "name": "stderr",
          "text": [
            "Your max_length is set to 50, but your input_length is only 46. Since this is a summarization task, where outputs shorter than the input are typically wanted, you might consider decreasing max_length manually, e.g. summarizer('...', max_length=23)\n"
          ]
        },
        {
          "output_type": "stream",
          "name": "stdout",
          "text": [
            " Text summarization is the process of automatically generating a concise and coherent summary of a longer document . There are two main approaches to text summarization: extraction-based and abstraction-based summarization .\n"
          ]
        }
      ]
    },
    {
      "cell_type": "code",
      "source": [],
      "metadata": {
        "id": "j_xmLz8BKSke"
      },
      "execution_count": null,
      "outputs": []
    }
  ],
  "metadata": {
    "colab": {
      "provenance": []
    },
    "kernelspec": {
      "display_name": "Python 3",
      "name": "python3"
    },
    "language_info": {
      "name": "python"
    },
    "widgets": {
      "application/vnd.jupyter.widget-state+json": {
        "b004a250945f467cb445c02aa827dd59": {
          "model_module": "@jupyter-widgets/controls",
          "model_name": "HBoxModel",
          "model_module_version": "1.5.0",
          "state": {
            "_dom_classes": [],
            "_model_module": "@jupyter-widgets/controls",
            "_model_module_version": "1.5.0",
            "_model_name": "HBoxModel",
            "_view_count": null,
            "_view_module": "@jupyter-widgets/controls",
            "_view_module_version": "1.5.0",
            "_view_name": "HBoxView",
            "box_style": "",
            "children": [
              "IPY_MODEL_67b6212ea0ee4057a149bc02b049648d",
              "IPY_MODEL_21b14960e734467fa82c920327a937e7",
              "IPY_MODEL_2420a51fa365492299388a0a92ac1615"
            ],
            "layout": "IPY_MODEL_588b2d68df0b457f8a54512834508b6f"
          }
        },
        "67b6212ea0ee4057a149bc02b049648d": {
          "model_module": "@jupyter-widgets/controls",
          "model_name": "HTMLModel",
          "model_module_version": "1.5.0",
          "state": {
            "_dom_classes": [],
            "_model_module": "@jupyter-widgets/controls",
            "_model_module_version": "1.5.0",
            "_model_name": "HTMLModel",
            "_view_count": null,
            "_view_module": "@jupyter-widgets/controls",
            "_view_module_version": "1.5.0",
            "_view_name": "HTMLView",
            "description": "",
            "description_tooltip": null,
            "layout": "IPY_MODEL_c9be263d3e594c1f80218f50fcaa2f4c",
            "placeholder": "​",
            "style": "IPY_MODEL_9ef0919321f94d408d620f69707713cc",
            "value": "config.json: 100%"
          }
        },
        "21b14960e734467fa82c920327a937e7": {
          "model_module": "@jupyter-widgets/controls",
          "model_name": "FloatProgressModel",
          "model_module_version": "1.5.0",
          "state": {
            "_dom_classes": [],
            "_model_module": "@jupyter-widgets/controls",
            "_model_module_version": "1.5.0",
            "_model_name": "FloatProgressModel",
            "_view_count": null,
            "_view_module": "@jupyter-widgets/controls",
            "_view_module_version": "1.5.0",
            "_view_name": "ProgressView",
            "bar_style": "success",
            "description": "",
            "description_tooltip": null,
            "layout": "IPY_MODEL_59544b80cea34a9c9ed2052fa459c90e",
            "max": 1802,
            "min": 0,
            "orientation": "horizontal",
            "style": "IPY_MODEL_8897be090f3147e6af6e408b83ca0ce6",
            "value": 1802
          }
        },
        "2420a51fa365492299388a0a92ac1615": {
          "model_module": "@jupyter-widgets/controls",
          "model_name": "HTMLModel",
          "model_module_version": "1.5.0",
          "state": {
            "_dom_classes": [],
            "_model_module": "@jupyter-widgets/controls",
            "_model_module_version": "1.5.0",
            "_model_name": "HTMLModel",
            "_view_count": null,
            "_view_module": "@jupyter-widgets/controls",
            "_view_module_version": "1.5.0",
            "_view_name": "HTMLView",
            "description": "",
            "description_tooltip": null,
            "layout": "IPY_MODEL_2144f0a88cfe4607b95a9f87f8527de0",
            "placeholder": "​",
            "style": "IPY_MODEL_a242f3ad31374261b2bcc4dcf9ed228c",
            "value": " 1.80k/1.80k [00:00&lt;00:00, 59.5kB/s]"
          }
        },
        "588b2d68df0b457f8a54512834508b6f": {
          "model_module": "@jupyter-widgets/base",
          "model_name": "LayoutModel",
          "model_module_version": "1.2.0",
          "state": {
            "_model_module": "@jupyter-widgets/base",
            "_model_module_version": "1.2.0",
            "_model_name": "LayoutModel",
            "_view_count": null,
            "_view_module": "@jupyter-widgets/base",
            "_view_module_version": "1.2.0",
            "_view_name": "LayoutView",
            "align_content": null,
            "align_items": null,
            "align_self": null,
            "border": null,
            "bottom": null,
            "display": null,
            "flex": null,
            "flex_flow": null,
            "grid_area": null,
            "grid_auto_columns": null,
            "grid_auto_flow": null,
            "grid_auto_rows": null,
            "grid_column": null,
            "grid_gap": null,
            "grid_row": null,
            "grid_template_areas": null,
            "grid_template_columns": null,
            "grid_template_rows": null,
            "height": null,
            "justify_content": null,
            "justify_items": null,
            "left": null,
            "margin": null,
            "max_height": null,
            "max_width": null,
            "min_height": null,
            "min_width": null,
            "object_fit": null,
            "object_position": null,
            "order": null,
            "overflow": null,
            "overflow_x": null,
            "overflow_y": null,
            "padding": null,
            "right": null,
            "top": null,
            "visibility": null,
            "width": null
          }
        },
        "c9be263d3e594c1f80218f50fcaa2f4c": {
          "model_module": "@jupyter-widgets/base",
          "model_name": "LayoutModel",
          "model_module_version": "1.2.0",
          "state": {
            "_model_module": "@jupyter-widgets/base",
            "_model_module_version": "1.2.0",
            "_model_name": "LayoutModel",
            "_view_count": null,
            "_view_module": "@jupyter-widgets/base",
            "_view_module_version": "1.2.0",
            "_view_name": "LayoutView",
            "align_content": null,
            "align_items": null,
            "align_self": null,
            "border": null,
            "bottom": null,
            "display": null,
            "flex": null,
            "flex_flow": null,
            "grid_area": null,
            "grid_auto_columns": null,
            "grid_auto_flow": null,
            "grid_auto_rows": null,
            "grid_column": null,
            "grid_gap": null,
            "grid_row": null,
            "grid_template_areas": null,
            "grid_template_columns": null,
            "grid_template_rows": null,
            "height": null,
            "justify_content": null,
            "justify_items": null,
            "left": null,
            "margin": null,
            "max_height": null,
            "max_width": null,
            "min_height": null,
            "min_width": null,
            "object_fit": null,
            "object_position": null,
            "order": null,
            "overflow": null,
            "overflow_x": null,
            "overflow_y": null,
            "padding": null,
            "right": null,
            "top": null,
            "visibility": null,
            "width": null
          }
        },
        "9ef0919321f94d408d620f69707713cc": {
          "model_module": "@jupyter-widgets/controls",
          "model_name": "DescriptionStyleModel",
          "model_module_version": "1.5.0",
          "state": {
            "_model_module": "@jupyter-widgets/controls",
            "_model_module_version": "1.5.0",
            "_model_name": "DescriptionStyleModel",
            "_view_count": null,
            "_view_module": "@jupyter-widgets/base",
            "_view_module_version": "1.2.0",
            "_view_name": "StyleView",
            "description_width": ""
          }
        },
        "59544b80cea34a9c9ed2052fa459c90e": {
          "model_module": "@jupyter-widgets/base",
          "model_name": "LayoutModel",
          "model_module_version": "1.2.0",
          "state": {
            "_model_module": "@jupyter-widgets/base",
            "_model_module_version": "1.2.0",
            "_model_name": "LayoutModel",
            "_view_count": null,
            "_view_module": "@jupyter-widgets/base",
            "_view_module_version": "1.2.0",
            "_view_name": "LayoutView",
            "align_content": null,
            "align_items": null,
            "align_self": null,
            "border": null,
            "bottom": null,
            "display": null,
            "flex": null,
            "flex_flow": null,
            "grid_area": null,
            "grid_auto_columns": null,
            "grid_auto_flow": null,
            "grid_auto_rows": null,
            "grid_column": null,
            "grid_gap": null,
            "grid_row": null,
            "grid_template_areas": null,
            "grid_template_columns": null,
            "grid_template_rows": null,
            "height": null,
            "justify_content": null,
            "justify_items": null,
            "left": null,
            "margin": null,
            "max_height": null,
            "max_width": null,
            "min_height": null,
            "min_width": null,
            "object_fit": null,
            "object_position": null,
            "order": null,
            "overflow": null,
            "overflow_x": null,
            "overflow_y": null,
            "padding": null,
            "right": null,
            "top": null,
            "visibility": null,
            "width": null
          }
        },
        "8897be090f3147e6af6e408b83ca0ce6": {
          "model_module": "@jupyter-widgets/controls",
          "model_name": "ProgressStyleModel",
          "model_module_version": "1.5.0",
          "state": {
            "_model_module": "@jupyter-widgets/controls",
            "_model_module_version": "1.5.0",
            "_model_name": "ProgressStyleModel",
            "_view_count": null,
            "_view_module": "@jupyter-widgets/base",
            "_view_module_version": "1.2.0",
            "_view_name": "StyleView",
            "bar_color": null,
            "description_width": ""
          }
        },
        "2144f0a88cfe4607b95a9f87f8527de0": {
          "model_module": "@jupyter-widgets/base",
          "model_name": "LayoutModel",
          "model_module_version": "1.2.0",
          "state": {
            "_model_module": "@jupyter-widgets/base",
            "_model_module_version": "1.2.0",
            "_model_name": "LayoutModel",
            "_view_count": null,
            "_view_module": "@jupyter-widgets/base",
            "_view_module_version": "1.2.0",
            "_view_name": "LayoutView",
            "align_content": null,
            "align_items": null,
            "align_self": null,
            "border": null,
            "bottom": null,
            "display": null,
            "flex": null,
            "flex_flow": null,
            "grid_area": null,
            "grid_auto_columns": null,
            "grid_auto_flow": null,
            "grid_auto_rows": null,
            "grid_column": null,
            "grid_gap": null,
            "grid_row": null,
            "grid_template_areas": null,
            "grid_template_columns": null,
            "grid_template_rows": null,
            "height": null,
            "justify_content": null,
            "justify_items": null,
            "left": null,
            "margin": null,
            "max_height": null,
            "max_width": null,
            "min_height": null,
            "min_width": null,
            "object_fit": null,
            "object_position": null,
            "order": null,
            "overflow": null,
            "overflow_x": null,
            "overflow_y": null,
            "padding": null,
            "right": null,
            "top": null,
            "visibility": null,
            "width": null
          }
        },
        "a242f3ad31374261b2bcc4dcf9ed228c": {
          "model_module": "@jupyter-widgets/controls",
          "model_name": "DescriptionStyleModel",
          "model_module_version": "1.5.0",
          "state": {
            "_model_module": "@jupyter-widgets/controls",
            "_model_module_version": "1.5.0",
            "_model_name": "DescriptionStyleModel",
            "_view_count": null,
            "_view_module": "@jupyter-widgets/base",
            "_view_module_version": "1.2.0",
            "_view_name": "StyleView",
            "description_width": ""
          }
        },
        "9302b80a818a4d6db30f9479bd9a0203": {
          "model_module": "@jupyter-widgets/controls",
          "model_name": "HBoxModel",
          "model_module_version": "1.5.0",
          "state": {
            "_dom_classes": [],
            "_model_module": "@jupyter-widgets/controls",
            "_model_module_version": "1.5.0",
            "_model_name": "HBoxModel",
            "_view_count": null,
            "_view_module": "@jupyter-widgets/controls",
            "_view_module_version": "1.5.0",
            "_view_name": "HBoxView",
            "box_style": "",
            "children": [
              "IPY_MODEL_945ba064df7142ea89765d0abbd55201",
              "IPY_MODEL_b64b13878ab34b10ab7cb271516a4d53",
              "IPY_MODEL_6861e524320340ca9bf16a8d342fcffa"
            ],
            "layout": "IPY_MODEL_67069489406a4a0c9f35101ce54e6360"
          }
        },
        "945ba064df7142ea89765d0abbd55201": {
          "model_module": "@jupyter-widgets/controls",
          "model_name": "HTMLModel",
          "model_module_version": "1.5.0",
          "state": {
            "_dom_classes": [],
            "_model_module": "@jupyter-widgets/controls",
            "_model_module_version": "1.5.0",
            "_model_name": "HTMLModel",
            "_view_count": null,
            "_view_module": "@jupyter-widgets/controls",
            "_view_module_version": "1.5.0",
            "_view_name": "HTMLView",
            "description": "",
            "description_tooltip": null,
            "layout": "IPY_MODEL_03f9585dc4cb40b3ae87a0a9ffecbdee",
            "placeholder": "​",
            "style": "IPY_MODEL_4b78b50010ea435ea8f457b9da160090",
            "value": "pytorch_model.bin: 100%"
          }
        },
        "b64b13878ab34b10ab7cb271516a4d53": {
          "model_module": "@jupyter-widgets/controls",
          "model_name": "FloatProgressModel",
          "model_module_version": "1.5.0",
          "state": {
            "_dom_classes": [],
            "_model_module": "@jupyter-widgets/controls",
            "_model_module_version": "1.5.0",
            "_model_name": "FloatProgressModel",
            "_view_count": null,
            "_view_module": "@jupyter-widgets/controls",
            "_view_module_version": "1.5.0",
            "_view_name": "ProgressView",
            "bar_style": "success",
            "description": "",
            "description_tooltip": null,
            "layout": "IPY_MODEL_ddb397bbf0874d1eb56a986e2fac206a",
            "max": 1222317369,
            "min": 0,
            "orientation": "horizontal",
            "style": "IPY_MODEL_9a55c3b40d1540618282e9d8725e17bb",
            "value": 1222317369
          }
        },
        "6861e524320340ca9bf16a8d342fcffa": {
          "model_module": "@jupyter-widgets/controls",
          "model_name": "HTMLModel",
          "model_module_version": "1.5.0",
          "state": {
            "_dom_classes": [],
            "_model_module": "@jupyter-widgets/controls",
            "_model_module_version": "1.5.0",
            "_model_name": "HTMLModel",
            "_view_count": null,
            "_view_module": "@jupyter-widgets/controls",
            "_view_module_version": "1.5.0",
            "_view_name": "HTMLView",
            "description": "",
            "description_tooltip": null,
            "layout": "IPY_MODEL_64083d267732435b9312c120ed9752bf",
            "placeholder": "​",
            "style": "IPY_MODEL_a4981a2e29764b63ac9355995ed0fe59",
            "value": " 1.22G/1.22G [00:09&lt;00:00, 97.7MB/s]"
          }
        },
        "67069489406a4a0c9f35101ce54e6360": {
          "model_module": "@jupyter-widgets/base",
          "model_name": "LayoutModel",
          "model_module_version": "1.2.0",
          "state": {
            "_model_module": "@jupyter-widgets/base",
            "_model_module_version": "1.2.0",
            "_model_name": "LayoutModel",
            "_view_count": null,
            "_view_module": "@jupyter-widgets/base",
            "_view_module_version": "1.2.0",
            "_view_name": "LayoutView",
            "align_content": null,
            "align_items": null,
            "align_self": null,
            "border": null,
            "bottom": null,
            "display": null,
            "flex": null,
            "flex_flow": null,
            "grid_area": null,
            "grid_auto_columns": null,
            "grid_auto_flow": null,
            "grid_auto_rows": null,
            "grid_column": null,
            "grid_gap": null,
            "grid_row": null,
            "grid_template_areas": null,
            "grid_template_columns": null,
            "grid_template_rows": null,
            "height": null,
            "justify_content": null,
            "justify_items": null,
            "left": null,
            "margin": null,
            "max_height": null,
            "max_width": null,
            "min_height": null,
            "min_width": null,
            "object_fit": null,
            "object_position": null,
            "order": null,
            "overflow": null,
            "overflow_x": null,
            "overflow_y": null,
            "padding": null,
            "right": null,
            "top": null,
            "visibility": null,
            "width": null
          }
        },
        "03f9585dc4cb40b3ae87a0a9ffecbdee": {
          "model_module": "@jupyter-widgets/base",
          "model_name": "LayoutModel",
          "model_module_version": "1.2.0",
          "state": {
            "_model_module": "@jupyter-widgets/base",
            "_model_module_version": "1.2.0",
            "_model_name": "LayoutModel",
            "_view_count": null,
            "_view_module": "@jupyter-widgets/base",
            "_view_module_version": "1.2.0",
            "_view_name": "LayoutView",
            "align_content": null,
            "align_items": null,
            "align_self": null,
            "border": null,
            "bottom": null,
            "display": null,
            "flex": null,
            "flex_flow": null,
            "grid_area": null,
            "grid_auto_columns": null,
            "grid_auto_flow": null,
            "grid_auto_rows": null,
            "grid_column": null,
            "grid_gap": null,
            "grid_row": null,
            "grid_template_areas": null,
            "grid_template_columns": null,
            "grid_template_rows": null,
            "height": null,
            "justify_content": null,
            "justify_items": null,
            "left": null,
            "margin": null,
            "max_height": null,
            "max_width": null,
            "min_height": null,
            "min_width": null,
            "object_fit": null,
            "object_position": null,
            "order": null,
            "overflow": null,
            "overflow_x": null,
            "overflow_y": null,
            "padding": null,
            "right": null,
            "top": null,
            "visibility": null,
            "width": null
          }
        },
        "4b78b50010ea435ea8f457b9da160090": {
          "model_module": "@jupyter-widgets/controls",
          "model_name": "DescriptionStyleModel",
          "model_module_version": "1.5.0",
          "state": {
            "_model_module": "@jupyter-widgets/controls",
            "_model_module_version": "1.5.0",
            "_model_name": "DescriptionStyleModel",
            "_view_count": null,
            "_view_module": "@jupyter-widgets/base",
            "_view_module_version": "1.2.0",
            "_view_name": "StyleView",
            "description_width": ""
          }
        },
        "ddb397bbf0874d1eb56a986e2fac206a": {
          "model_module": "@jupyter-widgets/base",
          "model_name": "LayoutModel",
          "model_module_version": "1.2.0",
          "state": {
            "_model_module": "@jupyter-widgets/base",
            "_model_module_version": "1.2.0",
            "_model_name": "LayoutModel",
            "_view_count": null,
            "_view_module": "@jupyter-widgets/base",
            "_view_module_version": "1.2.0",
            "_view_name": "LayoutView",
            "align_content": null,
            "align_items": null,
            "align_self": null,
            "border": null,
            "bottom": null,
            "display": null,
            "flex": null,
            "flex_flow": null,
            "grid_area": null,
            "grid_auto_columns": null,
            "grid_auto_flow": null,
            "grid_auto_rows": null,
            "grid_column": null,
            "grid_gap": null,
            "grid_row": null,
            "grid_template_areas": null,
            "grid_template_columns": null,
            "grid_template_rows": null,
            "height": null,
            "justify_content": null,
            "justify_items": null,
            "left": null,
            "margin": null,
            "max_height": null,
            "max_width": null,
            "min_height": null,
            "min_width": null,
            "object_fit": null,
            "object_position": null,
            "order": null,
            "overflow": null,
            "overflow_x": null,
            "overflow_y": null,
            "padding": null,
            "right": null,
            "top": null,
            "visibility": null,
            "width": null
          }
        },
        "9a55c3b40d1540618282e9d8725e17bb": {
          "model_module": "@jupyter-widgets/controls",
          "model_name": "ProgressStyleModel",
          "model_module_version": "1.5.0",
          "state": {
            "_model_module": "@jupyter-widgets/controls",
            "_model_module_version": "1.5.0",
            "_model_name": "ProgressStyleModel",
            "_view_count": null,
            "_view_module": "@jupyter-widgets/base",
            "_view_module_version": "1.2.0",
            "_view_name": "StyleView",
            "bar_color": null,
            "description_width": ""
          }
        },
        "64083d267732435b9312c120ed9752bf": {
          "model_module": "@jupyter-widgets/base",
          "model_name": "LayoutModel",
          "model_module_version": "1.2.0",
          "state": {
            "_model_module": "@jupyter-widgets/base",
            "_model_module_version": "1.2.0",
            "_model_name": "LayoutModel",
            "_view_count": null,
            "_view_module": "@jupyter-widgets/base",
            "_view_module_version": "1.2.0",
            "_view_name": "LayoutView",
            "align_content": null,
            "align_items": null,
            "align_self": null,
            "border": null,
            "bottom": null,
            "display": null,
            "flex": null,
            "flex_flow": null,
            "grid_area": null,
            "grid_auto_columns": null,
            "grid_auto_flow": null,
            "grid_auto_rows": null,
            "grid_column": null,
            "grid_gap": null,
            "grid_row": null,
            "grid_template_areas": null,
            "grid_template_columns": null,
            "grid_template_rows": null,
            "height": null,
            "justify_content": null,
            "justify_items": null,
            "left": null,
            "margin": null,
            "max_height": null,
            "max_width": null,
            "min_height": null,
            "min_width": null,
            "object_fit": null,
            "object_position": null,
            "order": null,
            "overflow": null,
            "overflow_x": null,
            "overflow_y": null,
            "padding": null,
            "right": null,
            "top": null,
            "visibility": null,
            "width": null
          }
        },
        "a4981a2e29764b63ac9355995ed0fe59": {
          "model_module": "@jupyter-widgets/controls",
          "model_name": "DescriptionStyleModel",
          "model_module_version": "1.5.0",
          "state": {
            "_model_module": "@jupyter-widgets/controls",
            "_model_module_version": "1.5.0",
            "_model_name": "DescriptionStyleModel",
            "_view_count": null,
            "_view_module": "@jupyter-widgets/base",
            "_view_module_version": "1.2.0",
            "_view_name": "StyleView",
            "description_width": ""
          }
        },
        "f631829948744a348b092d96e1703889": {
          "model_module": "@jupyter-widgets/controls",
          "model_name": "HBoxModel",
          "model_module_version": "1.5.0",
          "state": {
            "_dom_classes": [],
            "_model_module": "@jupyter-widgets/controls",
            "_model_module_version": "1.5.0",
            "_model_name": "HBoxModel",
            "_view_count": null,
            "_view_module": "@jupyter-widgets/controls",
            "_view_module_version": "1.5.0",
            "_view_name": "HBoxView",
            "box_style": "",
            "children": [
              "IPY_MODEL_8598eb669e8f4c71a5fdcb8db0d2d511",
              "IPY_MODEL_8e3009e1630d489fa9db90fd045b4624",
              "IPY_MODEL_fc8e624d36e249eab882a370aa1db0a3"
            ],
            "layout": "IPY_MODEL_81082922adfa4bcea7656d66fe9c6c83"
          }
        },
        "8598eb669e8f4c71a5fdcb8db0d2d511": {
          "model_module": "@jupyter-widgets/controls",
          "model_name": "HTMLModel",
          "model_module_version": "1.5.0",
          "state": {
            "_dom_classes": [],
            "_model_module": "@jupyter-widgets/controls",
            "_model_module_version": "1.5.0",
            "_model_name": "HTMLModel",
            "_view_count": null,
            "_view_module": "@jupyter-widgets/controls",
            "_view_module_version": "1.5.0",
            "_view_name": "HTMLView",
            "description": "",
            "description_tooltip": null,
            "layout": "IPY_MODEL_1e288208f0ab4616a628fbcbcb66df44",
            "placeholder": "​",
            "style": "IPY_MODEL_6d21af3e152f4631b1e50d60e9b49c29",
            "value": "tokenizer_config.json: 100%"
          }
        },
        "8e3009e1630d489fa9db90fd045b4624": {
          "model_module": "@jupyter-widgets/controls",
          "model_name": "FloatProgressModel",
          "model_module_version": "1.5.0",
          "state": {
            "_dom_classes": [],
            "_model_module": "@jupyter-widgets/controls",
            "_model_module_version": "1.5.0",
            "_model_name": "FloatProgressModel",
            "_view_count": null,
            "_view_module": "@jupyter-widgets/controls",
            "_view_module_version": "1.5.0",
            "_view_name": "ProgressView",
            "bar_style": "success",
            "description": "",
            "description_tooltip": null,
            "layout": "IPY_MODEL_d6e51c4ec35d49cf8c4bcb9e0d9b1119",
            "max": 26,
            "min": 0,
            "orientation": "horizontal",
            "style": "IPY_MODEL_a8a3e0a5131c48e0acd0afb47f699582",
            "value": 26
          }
        },
        "fc8e624d36e249eab882a370aa1db0a3": {
          "model_module": "@jupyter-widgets/controls",
          "model_name": "HTMLModel",
          "model_module_version": "1.5.0",
          "state": {
            "_dom_classes": [],
            "_model_module": "@jupyter-widgets/controls",
            "_model_module_version": "1.5.0",
            "_model_name": "HTMLModel",
            "_view_count": null,
            "_view_module": "@jupyter-widgets/controls",
            "_view_module_version": "1.5.0",
            "_view_name": "HTMLView",
            "description": "",
            "description_tooltip": null,
            "layout": "IPY_MODEL_e821fcb26f594470becbb2380a6c0a86",
            "placeholder": "​",
            "style": "IPY_MODEL_c11e69045ecc47c3b497ed91fb531599",
            "value": " 26.0/26.0 [00:00&lt;00:00, 1.59kB/s]"
          }
        },
        "81082922adfa4bcea7656d66fe9c6c83": {
          "model_module": "@jupyter-widgets/base",
          "model_name": "LayoutModel",
          "model_module_version": "1.2.0",
          "state": {
            "_model_module": "@jupyter-widgets/base",
            "_model_module_version": "1.2.0",
            "_model_name": "LayoutModel",
            "_view_count": null,
            "_view_module": "@jupyter-widgets/base",
            "_view_module_version": "1.2.0",
            "_view_name": "LayoutView",
            "align_content": null,
            "align_items": null,
            "align_self": null,
            "border": null,
            "bottom": null,
            "display": null,
            "flex": null,
            "flex_flow": null,
            "grid_area": null,
            "grid_auto_columns": null,
            "grid_auto_flow": null,
            "grid_auto_rows": null,
            "grid_column": null,
            "grid_gap": null,
            "grid_row": null,
            "grid_template_areas": null,
            "grid_template_columns": null,
            "grid_template_rows": null,
            "height": null,
            "justify_content": null,
            "justify_items": null,
            "left": null,
            "margin": null,
            "max_height": null,
            "max_width": null,
            "min_height": null,
            "min_width": null,
            "object_fit": null,
            "object_position": null,
            "order": null,
            "overflow": null,
            "overflow_x": null,
            "overflow_y": null,
            "padding": null,
            "right": null,
            "top": null,
            "visibility": null,
            "width": null
          }
        },
        "1e288208f0ab4616a628fbcbcb66df44": {
          "model_module": "@jupyter-widgets/base",
          "model_name": "LayoutModel",
          "model_module_version": "1.2.0",
          "state": {
            "_model_module": "@jupyter-widgets/base",
            "_model_module_version": "1.2.0",
            "_model_name": "LayoutModel",
            "_view_count": null,
            "_view_module": "@jupyter-widgets/base",
            "_view_module_version": "1.2.0",
            "_view_name": "LayoutView",
            "align_content": null,
            "align_items": null,
            "align_self": null,
            "border": null,
            "bottom": null,
            "display": null,
            "flex": null,
            "flex_flow": null,
            "grid_area": null,
            "grid_auto_columns": null,
            "grid_auto_flow": null,
            "grid_auto_rows": null,
            "grid_column": null,
            "grid_gap": null,
            "grid_row": null,
            "grid_template_areas": null,
            "grid_template_columns": null,
            "grid_template_rows": null,
            "height": null,
            "justify_content": null,
            "justify_items": null,
            "left": null,
            "margin": null,
            "max_height": null,
            "max_width": null,
            "min_height": null,
            "min_width": null,
            "object_fit": null,
            "object_position": null,
            "order": null,
            "overflow": null,
            "overflow_x": null,
            "overflow_y": null,
            "padding": null,
            "right": null,
            "top": null,
            "visibility": null,
            "width": null
          }
        },
        "6d21af3e152f4631b1e50d60e9b49c29": {
          "model_module": "@jupyter-widgets/controls",
          "model_name": "DescriptionStyleModel",
          "model_module_version": "1.5.0",
          "state": {
            "_model_module": "@jupyter-widgets/controls",
            "_model_module_version": "1.5.0",
            "_model_name": "DescriptionStyleModel",
            "_view_count": null,
            "_view_module": "@jupyter-widgets/base",
            "_view_module_version": "1.2.0",
            "_view_name": "StyleView",
            "description_width": ""
          }
        },
        "d6e51c4ec35d49cf8c4bcb9e0d9b1119": {
          "model_module": "@jupyter-widgets/base",
          "model_name": "LayoutModel",
          "model_module_version": "1.2.0",
          "state": {
            "_model_module": "@jupyter-widgets/base",
            "_model_module_version": "1.2.0",
            "_model_name": "LayoutModel",
            "_view_count": null,
            "_view_module": "@jupyter-widgets/base",
            "_view_module_version": "1.2.0",
            "_view_name": "LayoutView",
            "align_content": null,
            "align_items": null,
            "align_self": null,
            "border": null,
            "bottom": null,
            "display": null,
            "flex": null,
            "flex_flow": null,
            "grid_area": null,
            "grid_auto_columns": null,
            "grid_auto_flow": null,
            "grid_auto_rows": null,
            "grid_column": null,
            "grid_gap": null,
            "grid_row": null,
            "grid_template_areas": null,
            "grid_template_columns": null,
            "grid_template_rows": null,
            "height": null,
            "justify_content": null,
            "justify_items": null,
            "left": null,
            "margin": null,
            "max_height": null,
            "max_width": null,
            "min_height": null,
            "min_width": null,
            "object_fit": null,
            "object_position": null,
            "order": null,
            "overflow": null,
            "overflow_x": null,
            "overflow_y": null,
            "padding": null,
            "right": null,
            "top": null,
            "visibility": null,
            "width": null
          }
        },
        "a8a3e0a5131c48e0acd0afb47f699582": {
          "model_module": "@jupyter-widgets/controls",
          "model_name": "ProgressStyleModel",
          "model_module_version": "1.5.0",
          "state": {
            "_model_module": "@jupyter-widgets/controls",
            "_model_module_version": "1.5.0",
            "_model_name": "ProgressStyleModel",
            "_view_count": null,
            "_view_module": "@jupyter-widgets/base",
            "_view_module_version": "1.2.0",
            "_view_name": "StyleView",
            "bar_color": null,
            "description_width": ""
          }
        },
        "e821fcb26f594470becbb2380a6c0a86": {
          "model_module": "@jupyter-widgets/base",
          "model_name": "LayoutModel",
          "model_module_version": "1.2.0",
          "state": {
            "_model_module": "@jupyter-widgets/base",
            "_model_module_version": "1.2.0",
            "_model_name": "LayoutModel",
            "_view_count": null,
            "_view_module": "@jupyter-widgets/base",
            "_view_module_version": "1.2.0",
            "_view_name": "LayoutView",
            "align_content": null,
            "align_items": null,
            "align_self": null,
            "border": null,
            "bottom": null,
            "display": null,
            "flex": null,
            "flex_flow": null,
            "grid_area": null,
            "grid_auto_columns": null,
            "grid_auto_flow": null,
            "grid_auto_rows": null,
            "grid_column": null,
            "grid_gap": null,
            "grid_row": null,
            "grid_template_areas": null,
            "grid_template_columns": null,
            "grid_template_rows": null,
            "height": null,
            "justify_content": null,
            "justify_items": null,
            "left": null,
            "margin": null,
            "max_height": null,
            "max_width": null,
            "min_height": null,
            "min_width": null,
            "object_fit": null,
            "object_position": null,
            "order": null,
            "overflow": null,
            "overflow_x": null,
            "overflow_y": null,
            "padding": null,
            "right": null,
            "top": null,
            "visibility": null,
            "width": null
          }
        },
        "c11e69045ecc47c3b497ed91fb531599": {
          "model_module": "@jupyter-widgets/controls",
          "model_name": "DescriptionStyleModel",
          "model_module_version": "1.5.0",
          "state": {
            "_model_module": "@jupyter-widgets/controls",
            "_model_module_version": "1.5.0",
            "_model_name": "DescriptionStyleModel",
            "_view_count": null,
            "_view_module": "@jupyter-widgets/base",
            "_view_module_version": "1.2.0",
            "_view_name": "StyleView",
            "description_width": ""
          }
        },
        "e70be482379e4d6bbf1eefdd1c7dfd29": {
          "model_module": "@jupyter-widgets/controls",
          "model_name": "HBoxModel",
          "model_module_version": "1.5.0",
          "state": {
            "_dom_classes": [],
            "_model_module": "@jupyter-widgets/controls",
            "_model_module_version": "1.5.0",
            "_model_name": "HBoxModel",
            "_view_count": null,
            "_view_module": "@jupyter-widgets/controls",
            "_view_module_version": "1.5.0",
            "_view_name": "HBoxView",
            "box_style": "",
            "children": [
              "IPY_MODEL_e7052561cf30429484a52600d85a1cc7",
              "IPY_MODEL_d3fe9c12722e4b7892ef1660d41c6710",
              "IPY_MODEL_b0c49f60f1b649d48915613be205cc9f"
            ],
            "layout": "IPY_MODEL_853d93db035f4a288575e3a9eac2a09f"
          }
        },
        "e7052561cf30429484a52600d85a1cc7": {
          "model_module": "@jupyter-widgets/controls",
          "model_name": "HTMLModel",
          "model_module_version": "1.5.0",
          "state": {
            "_dom_classes": [],
            "_model_module": "@jupyter-widgets/controls",
            "_model_module_version": "1.5.0",
            "_model_name": "HTMLModel",
            "_view_count": null,
            "_view_module": "@jupyter-widgets/controls",
            "_view_module_version": "1.5.0",
            "_view_name": "HTMLView",
            "description": "",
            "description_tooltip": null,
            "layout": "IPY_MODEL_b9edec8e415b4c5387896b02329d76d3",
            "placeholder": "​",
            "style": "IPY_MODEL_f3cdbfce134040e1a52c1deab31231d5",
            "value": "vocab.json: 100%"
          }
        },
        "d3fe9c12722e4b7892ef1660d41c6710": {
          "model_module": "@jupyter-widgets/controls",
          "model_name": "FloatProgressModel",
          "model_module_version": "1.5.0",
          "state": {
            "_dom_classes": [],
            "_model_module": "@jupyter-widgets/controls",
            "_model_module_version": "1.5.0",
            "_model_name": "FloatProgressModel",
            "_view_count": null,
            "_view_module": "@jupyter-widgets/controls",
            "_view_module_version": "1.5.0",
            "_view_name": "ProgressView",
            "bar_style": "success",
            "description": "",
            "description_tooltip": null,
            "layout": "IPY_MODEL_a972736572f84a56b0871821ec289e19",
            "max": 898822,
            "min": 0,
            "orientation": "horizontal",
            "style": "IPY_MODEL_cdfed34e8faa484db6f97ccad7c799eb",
            "value": 898822
          }
        },
        "b0c49f60f1b649d48915613be205cc9f": {
          "model_module": "@jupyter-widgets/controls",
          "model_name": "HTMLModel",
          "model_module_version": "1.5.0",
          "state": {
            "_dom_classes": [],
            "_model_module": "@jupyter-widgets/controls",
            "_model_module_version": "1.5.0",
            "_model_name": "HTMLModel",
            "_view_count": null,
            "_view_module": "@jupyter-widgets/controls",
            "_view_module_version": "1.5.0",
            "_view_name": "HTMLView",
            "description": "",
            "description_tooltip": null,
            "layout": "IPY_MODEL_64a368e1ba4d436c8a7f6564d860c8c4",
            "placeholder": "​",
            "style": "IPY_MODEL_1c70a353419746a7bdfe7358768857b2",
            "value": " 899k/899k [00:00&lt;00:00, 24.9MB/s]"
          }
        },
        "853d93db035f4a288575e3a9eac2a09f": {
          "model_module": "@jupyter-widgets/base",
          "model_name": "LayoutModel",
          "model_module_version": "1.2.0",
          "state": {
            "_model_module": "@jupyter-widgets/base",
            "_model_module_version": "1.2.0",
            "_model_name": "LayoutModel",
            "_view_count": null,
            "_view_module": "@jupyter-widgets/base",
            "_view_module_version": "1.2.0",
            "_view_name": "LayoutView",
            "align_content": null,
            "align_items": null,
            "align_self": null,
            "border": null,
            "bottom": null,
            "display": null,
            "flex": null,
            "flex_flow": null,
            "grid_area": null,
            "grid_auto_columns": null,
            "grid_auto_flow": null,
            "grid_auto_rows": null,
            "grid_column": null,
            "grid_gap": null,
            "grid_row": null,
            "grid_template_areas": null,
            "grid_template_columns": null,
            "grid_template_rows": null,
            "height": null,
            "justify_content": null,
            "justify_items": null,
            "left": null,
            "margin": null,
            "max_height": null,
            "max_width": null,
            "min_height": null,
            "min_width": null,
            "object_fit": null,
            "object_position": null,
            "order": null,
            "overflow": null,
            "overflow_x": null,
            "overflow_y": null,
            "padding": null,
            "right": null,
            "top": null,
            "visibility": null,
            "width": null
          }
        },
        "b9edec8e415b4c5387896b02329d76d3": {
          "model_module": "@jupyter-widgets/base",
          "model_name": "LayoutModel",
          "model_module_version": "1.2.0",
          "state": {
            "_model_module": "@jupyter-widgets/base",
            "_model_module_version": "1.2.0",
            "_model_name": "LayoutModel",
            "_view_count": null,
            "_view_module": "@jupyter-widgets/base",
            "_view_module_version": "1.2.0",
            "_view_name": "LayoutView",
            "align_content": null,
            "align_items": null,
            "align_self": null,
            "border": null,
            "bottom": null,
            "display": null,
            "flex": null,
            "flex_flow": null,
            "grid_area": null,
            "grid_auto_columns": null,
            "grid_auto_flow": null,
            "grid_auto_rows": null,
            "grid_column": null,
            "grid_gap": null,
            "grid_row": null,
            "grid_template_areas": null,
            "grid_template_columns": null,
            "grid_template_rows": null,
            "height": null,
            "justify_content": null,
            "justify_items": null,
            "left": null,
            "margin": null,
            "max_height": null,
            "max_width": null,
            "min_height": null,
            "min_width": null,
            "object_fit": null,
            "object_position": null,
            "order": null,
            "overflow": null,
            "overflow_x": null,
            "overflow_y": null,
            "padding": null,
            "right": null,
            "top": null,
            "visibility": null,
            "width": null
          }
        },
        "f3cdbfce134040e1a52c1deab31231d5": {
          "model_module": "@jupyter-widgets/controls",
          "model_name": "DescriptionStyleModel",
          "model_module_version": "1.5.0",
          "state": {
            "_model_module": "@jupyter-widgets/controls",
            "_model_module_version": "1.5.0",
            "_model_name": "DescriptionStyleModel",
            "_view_count": null,
            "_view_module": "@jupyter-widgets/base",
            "_view_module_version": "1.2.0",
            "_view_name": "StyleView",
            "description_width": ""
          }
        },
        "a972736572f84a56b0871821ec289e19": {
          "model_module": "@jupyter-widgets/base",
          "model_name": "LayoutModel",
          "model_module_version": "1.2.0",
          "state": {
            "_model_module": "@jupyter-widgets/base",
            "_model_module_version": "1.2.0",
            "_model_name": "LayoutModel",
            "_view_count": null,
            "_view_module": "@jupyter-widgets/base",
            "_view_module_version": "1.2.0",
            "_view_name": "LayoutView",
            "align_content": null,
            "align_items": null,
            "align_self": null,
            "border": null,
            "bottom": null,
            "display": null,
            "flex": null,
            "flex_flow": null,
            "grid_area": null,
            "grid_auto_columns": null,
            "grid_auto_flow": null,
            "grid_auto_rows": null,
            "grid_column": null,
            "grid_gap": null,
            "grid_row": null,
            "grid_template_areas": null,
            "grid_template_columns": null,
            "grid_template_rows": null,
            "height": null,
            "justify_content": null,
            "justify_items": null,
            "left": null,
            "margin": null,
            "max_height": null,
            "max_width": null,
            "min_height": null,
            "min_width": null,
            "object_fit": null,
            "object_position": null,
            "order": null,
            "overflow": null,
            "overflow_x": null,
            "overflow_y": null,
            "padding": null,
            "right": null,
            "top": null,
            "visibility": null,
            "width": null
          }
        },
        "cdfed34e8faa484db6f97ccad7c799eb": {
          "model_module": "@jupyter-widgets/controls",
          "model_name": "ProgressStyleModel",
          "model_module_version": "1.5.0",
          "state": {
            "_model_module": "@jupyter-widgets/controls",
            "_model_module_version": "1.5.0",
            "_model_name": "ProgressStyleModel",
            "_view_count": null,
            "_view_module": "@jupyter-widgets/base",
            "_view_module_version": "1.2.0",
            "_view_name": "StyleView",
            "bar_color": null,
            "description_width": ""
          }
        },
        "64a368e1ba4d436c8a7f6564d860c8c4": {
          "model_module": "@jupyter-widgets/base",
          "model_name": "LayoutModel",
          "model_module_version": "1.2.0",
          "state": {
            "_model_module": "@jupyter-widgets/base",
            "_model_module_version": "1.2.0",
            "_model_name": "LayoutModel",
            "_view_count": null,
            "_view_module": "@jupyter-widgets/base",
            "_view_module_version": "1.2.0",
            "_view_name": "LayoutView",
            "align_content": null,
            "align_items": null,
            "align_self": null,
            "border": null,
            "bottom": null,
            "display": null,
            "flex": null,
            "flex_flow": null,
            "grid_area": null,
            "grid_auto_columns": null,
            "grid_auto_flow": null,
            "grid_auto_rows": null,
            "grid_column": null,
            "grid_gap": null,
            "grid_row": null,
            "grid_template_areas": null,
            "grid_template_columns": null,
            "grid_template_rows": null,
            "height": null,
            "justify_content": null,
            "justify_items": null,
            "left": null,
            "margin": null,
            "max_height": null,
            "max_width": null,
            "min_height": null,
            "min_width": null,
            "object_fit": null,
            "object_position": null,
            "order": null,
            "overflow": null,
            "overflow_x": null,
            "overflow_y": null,
            "padding": null,
            "right": null,
            "top": null,
            "visibility": null,
            "width": null
          }
        },
        "1c70a353419746a7bdfe7358768857b2": {
          "model_module": "@jupyter-widgets/controls",
          "model_name": "DescriptionStyleModel",
          "model_module_version": "1.5.0",
          "state": {
            "_model_module": "@jupyter-widgets/controls",
            "_model_module_version": "1.5.0",
            "_model_name": "DescriptionStyleModel",
            "_view_count": null,
            "_view_module": "@jupyter-widgets/base",
            "_view_module_version": "1.2.0",
            "_view_name": "StyleView",
            "description_width": ""
          }
        },
        "a9b4d02ea2b34925b7de5b2afba13f5e": {
          "model_module": "@jupyter-widgets/controls",
          "model_name": "HBoxModel",
          "model_module_version": "1.5.0",
          "state": {
            "_dom_classes": [],
            "_model_module": "@jupyter-widgets/controls",
            "_model_module_version": "1.5.0",
            "_model_name": "HBoxModel",
            "_view_count": null,
            "_view_module": "@jupyter-widgets/controls",
            "_view_module_version": "1.5.0",
            "_view_name": "HBoxView",
            "box_style": "",
            "children": [
              "IPY_MODEL_7a3d890822df43e7b8c45a8b1ec46ec4",
              "IPY_MODEL_084ceba2a3ba44a7866a1026c698f3c1",
              "IPY_MODEL_1197b1ec6b9a4e18adaec2fb45d36034"
            ],
            "layout": "IPY_MODEL_890576f119994111a34a610d7d7d2eb9"
          }
        },
        "7a3d890822df43e7b8c45a8b1ec46ec4": {
          "model_module": "@jupyter-widgets/controls",
          "model_name": "HTMLModel",
          "model_module_version": "1.5.0",
          "state": {
            "_dom_classes": [],
            "_model_module": "@jupyter-widgets/controls",
            "_model_module_version": "1.5.0",
            "_model_name": "HTMLModel",
            "_view_count": null,
            "_view_module": "@jupyter-widgets/controls",
            "_view_module_version": "1.5.0",
            "_view_name": "HTMLView",
            "description": "",
            "description_tooltip": null,
            "layout": "IPY_MODEL_3b86086e5ecb4a069d2df3f1d90ecdb6",
            "placeholder": "​",
            "style": "IPY_MODEL_6ea1d670964749278f7ef27a85bd8be5",
            "value": "merges.txt: 100%"
          }
        },
        "084ceba2a3ba44a7866a1026c698f3c1": {
          "model_module": "@jupyter-widgets/controls",
          "model_name": "FloatProgressModel",
          "model_module_version": "1.5.0",
          "state": {
            "_dom_classes": [],
            "_model_module": "@jupyter-widgets/controls",
            "_model_module_version": "1.5.0",
            "_model_name": "FloatProgressModel",
            "_view_count": null,
            "_view_module": "@jupyter-widgets/controls",
            "_view_module_version": "1.5.0",
            "_view_name": "ProgressView",
            "bar_style": "success",
            "description": "",
            "description_tooltip": null,
            "layout": "IPY_MODEL_01dcf2697ecd435eb7838421f8c78015",
            "max": 456318,
            "min": 0,
            "orientation": "horizontal",
            "style": "IPY_MODEL_4c276ec343c749de99a74d8d49a1cb5e",
            "value": 456318
          }
        },
        "1197b1ec6b9a4e18adaec2fb45d36034": {
          "model_module": "@jupyter-widgets/controls",
          "model_name": "HTMLModel",
          "model_module_version": "1.5.0",
          "state": {
            "_dom_classes": [],
            "_model_module": "@jupyter-widgets/controls",
            "_model_module_version": "1.5.0",
            "_model_name": "HTMLModel",
            "_view_count": null,
            "_view_module": "@jupyter-widgets/controls",
            "_view_module_version": "1.5.0",
            "_view_name": "HTMLView",
            "description": "",
            "description_tooltip": null,
            "layout": "IPY_MODEL_84106069311746d793e1686070b0ff9f",
            "placeholder": "​",
            "style": "IPY_MODEL_3884716e64eb469c890b12d4d3cd113b",
            "value": " 456k/456k [00:00&lt;00:00, 18.1MB/s]"
          }
        },
        "890576f119994111a34a610d7d7d2eb9": {
          "model_module": "@jupyter-widgets/base",
          "model_name": "LayoutModel",
          "model_module_version": "1.2.0",
          "state": {
            "_model_module": "@jupyter-widgets/base",
            "_model_module_version": "1.2.0",
            "_model_name": "LayoutModel",
            "_view_count": null,
            "_view_module": "@jupyter-widgets/base",
            "_view_module_version": "1.2.0",
            "_view_name": "LayoutView",
            "align_content": null,
            "align_items": null,
            "align_self": null,
            "border": null,
            "bottom": null,
            "display": null,
            "flex": null,
            "flex_flow": null,
            "grid_area": null,
            "grid_auto_columns": null,
            "grid_auto_flow": null,
            "grid_auto_rows": null,
            "grid_column": null,
            "grid_gap": null,
            "grid_row": null,
            "grid_template_areas": null,
            "grid_template_columns": null,
            "grid_template_rows": null,
            "height": null,
            "justify_content": null,
            "justify_items": null,
            "left": null,
            "margin": null,
            "max_height": null,
            "max_width": null,
            "min_height": null,
            "min_width": null,
            "object_fit": null,
            "object_position": null,
            "order": null,
            "overflow": null,
            "overflow_x": null,
            "overflow_y": null,
            "padding": null,
            "right": null,
            "top": null,
            "visibility": null,
            "width": null
          }
        },
        "3b86086e5ecb4a069d2df3f1d90ecdb6": {
          "model_module": "@jupyter-widgets/base",
          "model_name": "LayoutModel",
          "model_module_version": "1.2.0",
          "state": {
            "_model_module": "@jupyter-widgets/base",
            "_model_module_version": "1.2.0",
            "_model_name": "LayoutModel",
            "_view_count": null,
            "_view_module": "@jupyter-widgets/base",
            "_view_module_version": "1.2.0",
            "_view_name": "LayoutView",
            "align_content": null,
            "align_items": null,
            "align_self": null,
            "border": null,
            "bottom": null,
            "display": null,
            "flex": null,
            "flex_flow": null,
            "grid_area": null,
            "grid_auto_columns": null,
            "grid_auto_flow": null,
            "grid_auto_rows": null,
            "grid_column": null,
            "grid_gap": null,
            "grid_row": null,
            "grid_template_areas": null,
            "grid_template_columns": null,
            "grid_template_rows": null,
            "height": null,
            "justify_content": null,
            "justify_items": null,
            "left": null,
            "margin": null,
            "max_height": null,
            "max_width": null,
            "min_height": null,
            "min_width": null,
            "object_fit": null,
            "object_position": null,
            "order": null,
            "overflow": null,
            "overflow_x": null,
            "overflow_y": null,
            "padding": null,
            "right": null,
            "top": null,
            "visibility": null,
            "width": null
          }
        },
        "6ea1d670964749278f7ef27a85bd8be5": {
          "model_module": "@jupyter-widgets/controls",
          "model_name": "DescriptionStyleModel",
          "model_module_version": "1.5.0",
          "state": {
            "_model_module": "@jupyter-widgets/controls",
            "_model_module_version": "1.5.0",
            "_model_name": "DescriptionStyleModel",
            "_view_count": null,
            "_view_module": "@jupyter-widgets/base",
            "_view_module_version": "1.2.0",
            "_view_name": "StyleView",
            "description_width": ""
          }
        },
        "01dcf2697ecd435eb7838421f8c78015": {
          "model_module": "@jupyter-widgets/base",
          "model_name": "LayoutModel",
          "model_module_version": "1.2.0",
          "state": {
            "_model_module": "@jupyter-widgets/base",
            "_model_module_version": "1.2.0",
            "_model_name": "LayoutModel",
            "_view_count": null,
            "_view_module": "@jupyter-widgets/base",
            "_view_module_version": "1.2.0",
            "_view_name": "LayoutView",
            "align_content": null,
            "align_items": null,
            "align_self": null,
            "border": null,
            "bottom": null,
            "display": null,
            "flex": null,
            "flex_flow": null,
            "grid_area": null,
            "grid_auto_columns": null,
            "grid_auto_flow": null,
            "grid_auto_rows": null,
            "grid_column": null,
            "grid_gap": null,
            "grid_row": null,
            "grid_template_areas": null,
            "grid_template_columns": null,
            "grid_template_rows": null,
            "height": null,
            "justify_content": null,
            "justify_items": null,
            "left": null,
            "margin": null,
            "max_height": null,
            "max_width": null,
            "min_height": null,
            "min_width": null,
            "object_fit": null,
            "object_position": null,
            "order": null,
            "overflow": null,
            "overflow_x": null,
            "overflow_y": null,
            "padding": null,
            "right": null,
            "top": null,
            "visibility": null,
            "width": null
          }
        },
        "4c276ec343c749de99a74d8d49a1cb5e": {
          "model_module": "@jupyter-widgets/controls",
          "model_name": "ProgressStyleModel",
          "model_module_version": "1.5.0",
          "state": {
            "_model_module": "@jupyter-widgets/controls",
            "_model_module_version": "1.5.0",
            "_model_name": "ProgressStyleModel",
            "_view_count": null,
            "_view_module": "@jupyter-widgets/base",
            "_view_module_version": "1.2.0",
            "_view_name": "StyleView",
            "bar_color": null,
            "description_width": ""
          }
        },
        "84106069311746d793e1686070b0ff9f": {
          "model_module": "@jupyter-widgets/base",
          "model_name": "LayoutModel",
          "model_module_version": "1.2.0",
          "state": {
            "_model_module": "@jupyter-widgets/base",
            "_model_module_version": "1.2.0",
            "_model_name": "LayoutModel",
            "_view_count": null,
            "_view_module": "@jupyter-widgets/base",
            "_view_module_version": "1.2.0",
            "_view_name": "LayoutView",
            "align_content": null,
            "align_items": null,
            "align_self": null,
            "border": null,
            "bottom": null,
            "display": null,
            "flex": null,
            "flex_flow": null,
            "grid_area": null,
            "grid_auto_columns": null,
            "grid_auto_flow": null,
            "grid_auto_rows": null,
            "grid_column": null,
            "grid_gap": null,
            "grid_row": null,
            "grid_template_areas": null,
            "grid_template_columns": null,
            "grid_template_rows": null,
            "height": null,
            "justify_content": null,
            "justify_items": null,
            "left": null,
            "margin": null,
            "max_height": null,
            "max_width": null,
            "min_height": null,
            "min_width": null,
            "object_fit": null,
            "object_position": null,
            "order": null,
            "overflow": null,
            "overflow_x": null,
            "overflow_y": null,
            "padding": null,
            "right": null,
            "top": null,
            "visibility": null,
            "width": null
          }
        },
        "3884716e64eb469c890b12d4d3cd113b": {
          "model_module": "@jupyter-widgets/controls",
          "model_name": "DescriptionStyleModel",
          "model_module_version": "1.5.0",
          "state": {
            "_model_module": "@jupyter-widgets/controls",
            "_model_module_version": "1.5.0",
            "_model_name": "DescriptionStyleModel",
            "_view_count": null,
            "_view_module": "@jupyter-widgets/base",
            "_view_module_version": "1.2.0",
            "_view_name": "StyleView",
            "description_width": ""
          }
        }
      }
    }
  },
  "nbformat": 4,
  "nbformat_minor": 0
}